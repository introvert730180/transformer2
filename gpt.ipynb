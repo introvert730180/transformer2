{
 "cells": [
  {
   "cell_type": "markdown",
   "id": "b076bd1a-b236-4fbc-953d-8295b25122ae",
   "metadata": {},
   "source": [
    "# 🚀 GPT"
   ]
  },
  {
   "cell_type": "markdown",
   "id": "4dca6836-0007-43f3-af65-d12ae1922c02",
   "metadata": {
    "tags": []
   },
   "source": [
    "In this notebook, we'll walk through the steps required to train your own GPT model on the wine review dataset"
   ]
  },
  {
   "cell_type": "markdown",
   "id": "3e6cb7c7-d3d5-4b12-b357-1f6118edffe0",
   "metadata": {},
   "source": [
    "The code is adapted from the excellent [GPT tutorial](https://keras.io/examples/generative/text_generation_with_miniature_gpt/) created by Apoorv Nandan available on the Keras website."
   ]
  },
  {
   "cell_type": "code",
   "execution_count": 10,
   "id": "73350761-bef2-4e96-b3ac-a158eabd2b65",
   "metadata": {
    "tags": []
   },
   "outputs": [],
   "source": [
    "%load_ext autoreload\n",
    "%autoreload 2\n",
    "import numpy as np\n",
    "import json\n",
    "import re\n",
    "import string\n",
    "from IPython.display import display, HTML\n",
    "\n",
    "import tensorflow as tf\n",
    "from tensorflow.keras import layers, models, losses, callbacks"
   ]
  },
  {
   "cell_type": "markdown",
   "id": "339e6268-ebd7-4feb-86db-1fe7abccdbe5",
   "metadata": {},
   "source": [
    "## 0. Parameters <a name=\"parameters\"></a>"
   ]
  },
  {
   "cell_type": "code",
   "execution_count": 11,
   "id": "2d8352af-343e-4c2e-8c91-95f8bac1c8a1",
   "metadata": {},
   "outputs": [],
   "source": [
    "VOCAB_SIZE = 10000\n",
    "MAX_LEN = 80\n",
    "EMBEDDING_DIM = 256\n",
    "KEY_DIM = 256\n",
    "N_HEADS = 2\n",
    "FEED_FORWARD_DIM = 256\n",
    "VALIDATION_SPLIT = 0.2\n",
    "SEED = 42\n",
    "LOAD_MODEL = False\n",
    "BATCH_SIZE = 32\n",
    "EPOCHS = 5"
   ]
  },
  {
   "cell_type": "markdown",
   "id": "b7716fac-0010-49b0-b98e-53be2259edde",
   "metadata": {},
   "source": [
    "## 1. Load the data <a name=\"load\"></a>"
   ]
  },
  {
   "cell_type": "code",
   "execution_count": 14,
   "id": "93cf6b0f-9667-4146-8911-763a8a2925d3",
   "metadata": {
    "tags": []
   },
   "outputs": [],
   "source": [
    "with open(\"/app/data/wine-reviews/winemag-data-130k-v2.json\", encoding=\"utf-8\", errors=\"ignore\") as json_data:\n",
    "    wine_data = json.load(json_data)\n"
   ]
  },
  {
   "cell_type": "code",
   "execution_count": 15,
   "id": "2db5c0fc-0d5f-42ab-ade1-57e594c416ec",
   "metadata": {
    "tags": []
   },
   "outputs": [
    {
     "data": {
      "text/plain": [
       "{'points': '87',\n",
       " 'title': 'Kirkland Signature 2011 Mountain Cuvée Cabernet Sauvignon (Napa Valley)',\n",
       " 'description': 'Soft, supple plum envelopes an oaky structure in this Cabernet, supported by 15% Merlot. Coffee and chocolate complete the picture, finishing strong at the end, resulting in a value-priced wine of attractive flavor and immediate accessibility.',\n",
       " 'taster_name': 'Virginie Boone',\n",
       " 'taster_twitter_handle': '@vboone',\n",
       " 'price': 19,\n",
       " 'designation': 'Mountain Cuvée',\n",
       " 'variety': 'Cabernet Sauvignon',\n",
       " 'region_1': 'Napa Valley',\n",
       " 'region_2': 'Napa',\n",
       " 'province': 'California',\n",
       " 'country': 'US',\n",
       " 'winery': 'Kirkland Signature'}"
      ]
     },
     "execution_count": 15,
     "metadata": {},
     "output_type": "execute_result"
    }
   ],
   "source": [
    "wine_data[10]"
   ]
  },
  {
   "cell_type": "code",
   "execution_count": 16,
   "id": "23a74eca-f1b7-4a46-9a1f-b5806a4ed361",
   "metadata": {
    "tags": []
   },
   "outputs": [],
   "source": [
    "# Filter the dataset\n",
    "filtered_data = [\n",
    "    \"wine review : \"\n",
    "    + x[\"country\"]\n",
    "    + \" : \"\n",
    "    + x[\"province\"]\n",
    "    + \" : \"\n",
    "    + x[\"variety\"]\n",
    "    + \" : \"\n",
    "    + x[\"description\"]\n",
    "    for x in wine_data\n",
    "    if x[\"country\"] is not None\n",
    "    and x[\"province\"] is not None\n",
    "    and x[\"variety\"] is not None\n",
    "    and x[\"description\"] is not None\n",
    "]"
   ]
  },
  {
   "cell_type": "code",
   "execution_count": 17,
   "id": "389c20de-0422-4c48-a7b4-6ee12a7bf0e2",
   "metadata": {
    "tags": []
   },
   "outputs": [
    {
     "name": "stdout",
     "output_type": "stream",
     "text": [
      "129907 recipes loaded\n"
     ]
    }
   ],
   "source": [
    "# Count the recipes\n",
    "n_wines = len(filtered_data)\n",
    "print(f\"{n_wines} recipes loaded\")"
   ]
  },
  {
   "cell_type": "code",
   "execution_count": 18,
   "id": "1b2e3cf7-e416-460e-874a-0dd9637bca36",
   "metadata": {},
   "outputs": [
    {
     "name": "stdout",
     "output_type": "stream",
     "text": [
      "wine review : US : California : Pinot Noir : Oak and earth intermingle around robust aromas of wet forest floor in this vineyard-designated Pinot that hails from a high-elevation site. Small in production, it offers intense, full-bodied raspberry and blackberry steeped in smoky spice and smooth texture.\n"
     ]
    }
   ],
   "source": [
    "example = filtered_data[25]\n",
    "print(example)"
   ]
  },
  {
   "cell_type": "markdown",
   "id": "3f871aaf-d873-41c7-8946-e4eef7ac17c1",
   "metadata": {},
   "source": [
    "## 2. Tokenize the data <a name=\"tokenize\"></a>"
   ]
  },
  {
   "cell_type": "code",
   "execution_count": 19,
   "id": "5b2064fb-5dcc-4657-b470-0928d10e2ddc",
   "metadata": {
    "tags": []
   },
   "outputs": [],
   "source": [
    "# Pad the punctuation, to treat them as separate 'words'\n",
    "def pad_punctuation(s):\n",
    "    s = re.sub(f\"([{string.punctuation}, '\\n'])\", r\" \\1 \", s)\n",
    "    s = re.sub(\" +\", \" \", s)\n",
    "    return s\n",
    "\n",
    "\n",
    "text_data = [pad_punctuation(x) for x in filtered_data]"
   ]
  },
  {
   "cell_type": "code",
   "execution_count": 20,
   "id": "b87d7c65-9a46-492a-a5c0-a043b0d252f3",
   "metadata": {},
   "outputs": [
    {
     "data": {
      "text/plain": [
       "'wine review : US : California : Pinot Noir : Oak and earth intermingle around robust aromas of wet forest floor in this vineyard - designated Pinot that hails from a high - elevation site . Small in production , it offers intense , full - bodied raspberry and blackberry steeped in smoky spice and smooth texture . '"
      ]
     },
     "execution_count": 20,
     "metadata": {},
     "output_type": "execute_result"
    }
   ],
   "source": [
    "# Display an example of a recipe\n",
    "example_data = text_data[25]\n",
    "example_data"
   ]
  },
  {
   "cell_type": "code",
   "execution_count": 21,
   "id": "9834f916-b21a-4104-acc9-f28d3bd7a8c1",
   "metadata": {
    "tags": []
   },
   "outputs": [
    {
     "name": "stderr",
     "output_type": "stream",
     "text": [
      "2024-08-31 09:15:13.840788: I tensorflow/stream_executor/cuda/cuda_gpu_executor.cc:966] could not open file to read NUMA node: /sys/bus/pci/devices/0000:01:00.0/numa_node\n",
      "Your kernel may have been built without NUMA support.\n",
      "2024-08-31 09:15:13.858826: I tensorflow/stream_executor/cuda/cuda_gpu_executor.cc:966] could not open file to read NUMA node: /sys/bus/pci/devices/0000:01:00.0/numa_node\n",
      "Your kernel may have been built without NUMA support.\n",
      "2024-08-31 09:15:13.859147: I tensorflow/stream_executor/cuda/cuda_gpu_executor.cc:966] could not open file to read NUMA node: /sys/bus/pci/devices/0000:01:00.0/numa_node\n",
      "Your kernel may have been built without NUMA support.\n",
      "2024-08-31 09:15:13.869522: I tensorflow/core/platform/cpu_feature_guard.cc:193] This TensorFlow binary is optimized with oneAPI Deep Neural Network Library (oneDNN) to use the following CPU instructions in performance-critical operations:  AVX2 FMA\n",
      "To enable them in other operations, rebuild TensorFlow with the appropriate compiler flags.\n",
      "2024-08-31 09:15:13.871882: I tensorflow/stream_executor/cuda/cuda_gpu_executor.cc:966] could not open file to read NUMA node: /sys/bus/pci/devices/0000:01:00.0/numa_node\n",
      "Your kernel may have been built without NUMA support.\n",
      "2024-08-31 09:15:13.872388: I tensorflow/stream_executor/cuda/cuda_gpu_executor.cc:966] could not open file to read NUMA node: /sys/bus/pci/devices/0000:01:00.0/numa_node\n",
      "Your kernel may have been built without NUMA support.\n",
      "2024-08-31 09:15:13.872799: I tensorflow/stream_executor/cuda/cuda_gpu_executor.cc:966] could not open file to read NUMA node: /sys/bus/pci/devices/0000:01:00.0/numa_node\n",
      "Your kernel may have been built without NUMA support.\n",
      "2024-08-31 09:15:15.068998: I tensorflow/stream_executor/cuda/cuda_gpu_executor.cc:966] could not open file to read NUMA node: /sys/bus/pci/devices/0000:01:00.0/numa_node\n",
      "Your kernel may have been built without NUMA support.\n",
      "2024-08-31 09:15:15.069885: I tensorflow/stream_executor/cuda/cuda_gpu_executor.cc:966] could not open file to read NUMA node: /sys/bus/pci/devices/0000:01:00.0/numa_node\n",
      "Your kernel may have been built without NUMA support.\n",
      "2024-08-31 09:15:15.069909: I tensorflow/core/common_runtime/gpu/gpu_device.cc:1700] Could not identify NUMA node of platform GPU id 0, defaulting to 0.  Your kernel may not have been built with NUMA support.\n",
      "2024-08-31 09:15:15.070301: I tensorflow/stream_executor/cuda/cuda_gpu_executor.cc:966] could not open file to read NUMA node: /sys/bus/pci/devices/0000:01:00.0/numa_node\n",
      "Your kernel may have been built without NUMA support.\n",
      "2024-08-31 09:15:15.070364: I tensorflow/core/common_runtime/gpu/gpu_device.cc:1616] Created device /job:localhost/replica:0/task:0/device:GPU:0 with 2098 MB memory:  -> device: 0, name: NVIDIA GeForce GTX 1650, pci bus id: 0000:01:00.0, compute capability: 7.5\n"
     ]
    }
   ],
   "source": [
    "# Convert to a Tensorflow Dataset\n",
    "text_ds = (\n",
    "    tf.data.Dataset.from_tensor_slices(text_data)\n",
    "    .batch(BATCH_SIZE)\n",
    "    .shuffle(1000)\n",
    ")"
   ]
  },
  {
   "cell_type": "code",
   "execution_count": 22,
   "id": "884c0bcb-0807-45a1-8f7e-a32f2c6fa4de",
   "metadata": {},
   "outputs": [],
   "source": [
    "# Create a vectorisation layer\n",
    "vectorize_layer = layers.TextVectorization(\n",
    "    standardize=\"lower\",\n",
    "    max_tokens=VOCAB_SIZE,\n",
    "    output_mode=\"int\",\n",
    "    output_sequence_length=MAX_LEN + 1,\n",
    ")"
   ]
  },
  {
   "cell_type": "code",
   "execution_count": 23,
   "id": "4d6dd34a-d905-497b-926a-405380ebcf98",
   "metadata": {},
   "outputs": [],
   "source": [
    "# Adapt the layer to the training set\n",
    "vectorize_layer.adapt(text_ds)\n",
    "vocab = vectorize_layer.get_vocabulary()"
   ]
  },
  {
   "cell_type": "code",
   "execution_count": 24,
   "id": "f6c1c7ce-3cf0-40d4-a3dc-ab7090f69f2f",
   "metadata": {},
   "outputs": [
    {
     "name": "stdout",
     "output_type": "stream",
     "text": [
      "0: \n",
      "1: [UNK]\n",
      "2: :\n",
      "3: ,\n",
      "4: .\n",
      "5: and\n",
      "6: the\n",
      "7: wine\n",
      "8: a\n",
      "9: of\n"
     ]
    }
   ],
   "source": [
    "# Display some token:word mappings\n",
    "for i, word in enumerate(vocab[:10]):\n",
    "    print(f\"{i}: {word}\")"
   ]
  },
  {
   "cell_type": "code",
   "execution_count": 25,
   "id": "1cc30186-7ec6-4eb6-b29a-65df6714d321",
   "metadata": {},
   "outputs": [
    {
     "name": "stdout",
     "output_type": "stream",
     "text": [
      "[   7   10    2   20    2   29    2   43   62    2   55    5  243 4145\n",
      "  453  634   26    9  497  499  667   17   12  142   14 2214   43   25\n",
      " 2484   32    8  223   14 2213  948    4  594   17  987    3   15   75\n",
      "  237    3   64   14   82   97    5   74 2633   17  198   49    5  125\n",
      "   77    4    0    0    0    0    0    0    0    0    0    0    0    0\n",
      "    0    0    0    0    0    0    0    0    0    0    0]\n"
     ]
    }
   ],
   "source": [
    "# Display the same example converted to ints\n",
    "example_tokenised = vectorize_layer(example_data)\n",
    "print(example_tokenised.numpy())"
   ]
  },
  {
   "cell_type": "markdown",
   "id": "8c195efb-84c6-4be0-a989-a7542188ad35",
   "metadata": {},
   "source": [
    "## 3. Create the Training Set <a name=\"create\"></a>"
   ]
  },
  {
   "cell_type": "code",
   "execution_count": 26,
   "id": "740294a1-1a6b-4c89-92f2-036d7d1b788b",
   "metadata": {},
   "outputs": [],
   "source": [
    "# Create the training set of recipes and the same text shifted by one word\n",
    "def prepare_inputs(text):\n",
    "    text = tf.expand_dims(text, -1)\n",
    "    tokenized_sentences = vectorize_layer(text)\n",
    "    x = tokenized_sentences[:, :-1]\n",
    "    y = tokenized_sentences[:, 1:]\n",
    "    return x, y\n",
    "\n",
    "\n",
    "train_ds = text_ds.map(prepare_inputs)"
   ]
  },
  {
   "cell_type": "code",
   "execution_count": 27,
   "id": "cad80ffb-4298-4249-86b4-9918d62534c5",
   "metadata": {},
   "outputs": [],
   "source": [
    "example_input_output = train_ds.take(1).get_single_element()"
   ]
  },
  {
   "cell_type": "code",
   "execution_count": 28,
   "id": "67ff7263-f62d-44c1-997b-1aa99a393521",
   "metadata": {},
   "outputs": [
    {
     "data": {
      "text/plain": [
       "<tf.Tensor: shape=(80,), dtype=int64, numpy=\n",
       "array([   7,   10,    2,   20,    2,   29,    2,   45,   44,    2, 1151,\n",
       "         14,   78,   17,  216,    3,   12,  756,    7,   75,    8, 2511,\n",
       "        141,   23,    6,   60,    3,  318,   47,    8,  564, 2257,    9,\n",
       "       1106,    5, 2410,    4,  661,  543,    5, 1078,    3,   15,  253,\n",
       "       5898,  140,    5,   58,    4,    0,    0,    0,    0,    0,    0,\n",
       "          0,    0,    0,    0,    0,    0,    0,    0,    0,    0,    0,\n",
       "          0,    0,    0,    0,    0,    0,    0,    0,    0,    0,    0,\n",
       "          0,    0,    0])>"
      ]
     },
     "execution_count": 28,
     "metadata": {},
     "output_type": "execute_result"
    }
   ],
   "source": [
    "# Example Input\n",
    "example_input_output[0][0]"
   ]
  },
  {
   "cell_type": "code",
   "execution_count": 29,
   "id": "ef2e2cad-414c-4e6d-a2ac-6b9598f9dd01",
   "metadata": {},
   "outputs": [
    {
     "data": {
      "text/plain": [
       "<tf.Tensor: shape=(80,), dtype=int64, numpy=\n",
       "array([  10,    2,   20,    2,   29,    2,   45,   44,    2, 1151,   14,\n",
       "         78,   17,  216,    3,   12,  756,    7,   75,    8, 2511,  141,\n",
       "         23,    6,   60,    3,  318,   47,    8,  564, 2257,    9, 1106,\n",
       "          5, 2410,    4,  661,  543,    5, 1078,    3,   15,  253, 5898,\n",
       "        140,    5,   58,    4,    0,    0,    0,    0,    0,    0,    0,\n",
       "          0,    0,    0,    0,    0,    0,    0,    0,    0,    0,    0,\n",
       "          0,    0,    0,    0,    0,    0,    0,    0,    0,    0,    0,\n",
       "          0,    0,    0])>"
      ]
     },
     "execution_count": 29,
     "metadata": {},
     "output_type": "execute_result"
    }
   ],
   "source": [
    "# Example Output (shifted by one token)\n",
    "example_input_output[1][0]"
   ]
  },
  {
   "cell_type": "markdown",
   "id": "aff50401-3abe-4c10-bba8-b35bc13ad7d5",
   "metadata": {
    "tags": []
   },
   "source": [
    "## 5. Create the causal attention mask function <a name=\"causal\"></a>"
   ]
  },
  {
   "cell_type": "code",
   "execution_count": 30,
   "id": "554a4184-61c2-4eb7-a063-d965586a8188",
   "metadata": {},
   "outputs": [
    {
     "data": {
      "text/plain": [
       "array([[1, 1, 1, 1, 1, 1, 1, 1, 1, 1],\n",
       "       [0, 1, 1, 1, 1, 1, 1, 1, 1, 1],\n",
       "       [0, 0, 1, 1, 1, 1, 1, 1, 1, 1],\n",
       "       [0, 0, 0, 1, 1, 1, 1, 1, 1, 1],\n",
       "       [0, 0, 0, 0, 1, 1, 1, 1, 1, 1],\n",
       "       [0, 0, 0, 0, 0, 1, 1, 1, 1, 1],\n",
       "       [0, 0, 0, 0, 0, 0, 1, 1, 1, 1],\n",
       "       [0, 0, 0, 0, 0, 0, 0, 1, 1, 1],\n",
       "       [0, 0, 0, 0, 0, 0, 0, 0, 1, 1],\n",
       "       [0, 0, 0, 0, 0, 0, 0, 0, 0, 1]], dtype=int32)"
      ]
     },
     "execution_count": 30,
     "metadata": {},
     "output_type": "execute_result"
    }
   ],
   "source": [
    "def causal_attention_mask(batch_size, n_dest, n_src, dtype):\n",
    "    i = tf.range(n_dest)[:, None]\n",
    "    j = tf.range(n_src)\n",
    "    m = i >= j - n_src + n_dest\n",
    "    mask = tf.cast(m, dtype)\n",
    "    mask = tf.reshape(mask, [1, n_dest, n_src])\n",
    "    mult = tf.concat(\n",
    "        [tf.expand_dims(batch_size, -1), tf.constant([1, 1], dtype=tf.int32)], 0\n",
    "    )\n",
    "    return tf.tile(mask, mult)\n",
    "\n",
    "\n",
    "np.transpose(causal_attention_mask(1, 10, 10, dtype=tf.int32)[0])"
   ]
  },
  {
   "cell_type": "markdown",
   "id": "3501dbad-0860-40ad-b7d6-47950e37858f",
   "metadata": {},
   "source": [
    "## 6. Create a Transformer Block layer <a name=\"transformer\"></a>"
   ]
  },
  {
   "cell_type": "code",
   "execution_count": 31,
   "id": "5285a1cb-fce1-46b1-b088-b596002fa9ae",
   "metadata": {},
   "outputs": [],
   "source": [
    "class TransformerBlock(layers.Layer):\n",
    "    def __init__(self, num_heads, key_dim, embed_dim, ff_dim, dropout_rate=0.1):\n",
    "        super(TransformerBlock, self).__init__()\n",
    "        self.num_heads = num_heads\n",
    "        self.key_dim = key_dim\n",
    "        self.embed_dim = embed_dim\n",
    "        self.ff_dim = ff_dim\n",
    "        self.dropout_rate = dropout_rate\n",
    "        self.attn = layers.MultiHeadAttention(\n",
    "            num_heads, key_dim, output_shape=embed_dim\n",
    "        )\n",
    "        self.dropout_1 = layers.Dropout(self.dropout_rate)\n",
    "        self.ln_1 = layers.LayerNormalization(epsilon=1e-6)\n",
    "        self.ffn_1 = layers.Dense(self.ff_dim, activation=\"relu\")\n",
    "        self.ffn_2 = layers.Dense(self.embed_dim)\n",
    "        self.dropout_2 = layers.Dropout(self.dropout_rate)\n",
    "        self.ln_2 = layers.LayerNormalization(epsilon=1e-6)\n",
    "\n",
    "    def call(self, inputs):\n",
    "        input_shape = tf.shape(inputs)\n",
    "        batch_size = input_shape[0]\n",
    "        seq_len = input_shape[1]\n",
    "        causal_mask = causal_attention_mask(\n",
    "            batch_size, seq_len, seq_len, tf.bool\n",
    "        )\n",
    "        attention_output, attention_scores = self.attn(\n",
    "            inputs,\n",
    "            inputs,\n",
    "            attention_mask=causal_mask,\n",
    "            return_attention_scores=True,\n",
    "        )\n",
    "        attention_output = self.dropout_1(attention_output)\n",
    "        out1 = self.ln_1(inputs + attention_output)\n",
    "        ffn_1 = self.ffn_1(out1)\n",
    "        ffn_2 = self.ffn_2(ffn_1)\n",
    "        ffn_output = self.dropout_2(ffn_2)\n",
    "        return (self.ln_2(out1 + ffn_output), attention_scores)\n",
    "\n",
    "    def get_config(self):\n",
    "        config = super().get_config()\n",
    "        config.update(\n",
    "            {\n",
    "                \"key_dim\": self.key_dim,\n",
    "                \"embed_dim\": self.embed_dim,\n",
    "                \"num_heads\": self.num_heads,\n",
    "                \"ff_dim\": self.ff_dim,\n",
    "                \"dropout_rate\": self.dropout_rate,\n",
    "            }\n",
    "        )\n",
    "        return config"
   ]
  },
  {
   "cell_type": "markdown",
   "id": "076a6be0-9796-4974-9bcd-6ebbcfe7514e",
   "metadata": {
    "tags": []
   },
   "source": [
    "## 7. Create the Token and Position Embedding <a name=\"embedder\"></a>"
   ]
  },
  {
   "cell_type": "code",
   "execution_count": 32,
   "id": "fdf5cb25-88ae-4026-9e21-c1e6b5094a2c",
   "metadata": {},
   "outputs": [],
   "source": [
    "class TokenAndPositionEmbedding(layers.Layer):\n",
    "    def __init__(self, max_len, vocab_size, embed_dim):\n",
    "        super(TokenAndPositionEmbedding, self).__init__()\n",
    "        self.max_len = max_len\n",
    "        self.vocab_size = vocab_size\n",
    "        self.embed_dim = embed_dim\n",
    "        self.token_emb = layers.Embedding(\n",
    "            input_dim=vocab_size, output_dim=embed_dim\n",
    "        )\n",
    "        self.pos_emb = layers.Embedding(input_dim=max_len, output_dim=embed_dim)\n",
    "\n",
    "    def call(self, x):\n",
    "        maxlen = tf.shape(x)[-1]\n",
    "        positions = tf.range(start=0, limit=maxlen, delta=1)\n",
    "        positions = self.pos_emb(positions)\n",
    "        x = self.token_emb(x)\n",
    "        return x + positions\n",
    "\n",
    "    def get_config(self):\n",
    "        config = super().get_config()\n",
    "        config.update(\n",
    "            {\n",
    "                \"max_len\": self.max_len,\n",
    "                \"vocab_size\": self.vocab_size,\n",
    "                \"embed_dim\": self.embed_dim,\n",
    "            }\n",
    "        )\n",
    "        return config"
   ]
  },
  {
   "cell_type": "markdown",
   "id": "aac2e2d4-5980-47e3-b5b0-6c41c0c2d152",
   "metadata": {},
   "source": [
    "## 8. Build the Transformer model <a name=\"transformer_decoder\"></a>"
   ]
  },
  {
   "cell_type": "code",
   "execution_count": 33,
   "id": "8c57596e-e17d-4959-b6e8-7581b0bace3a",
   "metadata": {},
   "outputs": [],
   "source": [
    "inputs = layers.Input(shape=(None,), dtype=tf.int32)\n",
    "x = TokenAndPositionEmbedding(MAX_LEN, VOCAB_SIZE, EMBEDDING_DIM)(inputs)\n",
    "x, attention_scores = TransformerBlock(\n",
    "    N_HEADS, KEY_DIM, EMBEDDING_DIM, FEED_FORWARD_DIM\n",
    ")(x)\n",
    "outputs = layers.Dense(VOCAB_SIZE, activation=\"softmax\")(x)\n",
    "gpt = models.Model(inputs=inputs, outputs=[outputs, attention_scores])\n",
    "gpt.compile(\"adam\", loss=[losses.SparseCategoricalCrossentropy(), None])"
   ]
  },
  {
   "cell_type": "code",
   "execution_count": 34,
   "id": "1a1c3b0f-3382-444d-bb04-bae143ae5d61",
   "metadata": {},
   "outputs": [
    {
     "name": "stdout",
     "output_type": "stream",
     "text": [
      "Model: \"model\"\n",
      "_________________________________________________________________\n",
      " Layer (type)                Output Shape              Param #   \n",
      "=================================================================\n",
      " input_1 (InputLayer)        [(None, None)]            0         \n",
      "                                                                 \n",
      " token_and_position_embeddin  (None, None, 256)        2580480   \n",
      " g (TokenAndPositionEmbeddin                                     \n",
      " g)                                                              \n",
      "                                                                 \n",
      " transformer_block (Transfor  ((None, None, 256),      658688    \n",
      " merBlock)                    (None, 2, None, None))             \n",
      "                                                                 \n",
      " dense_2 (Dense)             (None, None, 10000)       2570000   \n",
      "                                                                 \n",
      "=================================================================\n",
      "Total params: 5,809,168\n",
      "Trainable params: 5,809,168\n",
      "Non-trainable params: 0\n",
      "_________________________________________________________________\n"
     ]
    }
   ],
   "source": [
    "gpt.summary()"
   ]
  },
  {
   "cell_type": "code",
   "execution_count": 35,
   "id": "800a3c6e-fb11-4792-b6bc-9a43a7c977ad",
   "metadata": {
    "tags": []
   },
   "outputs": [],
   "source": [
    "if LOAD_MODEL:\n",
    "    # model.load_weights('./models/model')\n",
    "    gpt = models.load_model(\"./models/gpt\", compile=True)"
   ]
  },
  {
   "cell_type": "markdown",
   "id": "35b14665-4359-447b-be58-3fd58ba69084",
   "metadata": {},
   "source": [
    "## 9. Train the Transformer <a name=\"train\"></a>"
   ]
  },
  {
   "cell_type": "code",
   "execution_count": 36,
   "id": "3ddcff5f-829d-4449-99d2-9a3cb68f7d72",
   "metadata": {},
   "outputs": [],
   "source": [
    "# Create a TextGenerator checkpoint\n",
    "class TextGenerator(callbacks.Callback):\n",
    "    def __init__(self, index_to_word, top_k=10):\n",
    "        self.index_to_word = index_to_word\n",
    "        self.word_to_index = {\n",
    "            word: index for index, word in enumerate(index_to_word)\n",
    "        }\n",
    "\n",
    "    def sample_from(self, probs, temperature):\n",
    "        probs = probs ** (1 / temperature)\n",
    "        probs = probs / np.sum(probs)\n",
    "        return np.random.choice(len(probs), p=probs), probs\n",
    "\n",
    "    def generate(self, start_prompt, max_tokens, temperature):\n",
    "        start_tokens = [\n",
    "            self.word_to_index.get(x, 1) for x in start_prompt.split()\n",
    "        ]\n",
    "        sample_token = None\n",
    "        info = []\n",
    "        while len(start_tokens) < max_tokens and sample_token != 0:\n",
    "            x = np.array([start_tokens])\n",
    "            y, att = self.model.predict(x, verbose=0)\n",
    "            sample_token, probs = self.sample_from(y[0][-1], temperature)\n",
    "            info.append(\n",
    "                {\n",
    "                    \"prompt\": start_prompt,\n",
    "                    \"word_probs\": probs,\n",
    "                    \"atts\": att[0, :, -1, :],\n",
    "                }\n",
    "            )\n",
    "            start_tokens.append(sample_token)\n",
    "            start_prompt = start_prompt + \" \" + self.index_to_word[sample_token]\n",
    "        print(f\"\\ngenerated text:\\n{start_prompt}\\n\")\n",
    "        return info\n",
    "\n",
    "    def on_epoch_end(self, epoch, logs=None):\n",
    "        self.generate(\"wine review\", max_tokens=80, temperature=1.0)"
   ]
  },
  {
   "cell_type": "code",
   "execution_count": 37,
   "id": "349865fe-ffbe-450e-97be-043ae1740e78",
   "metadata": {},
   "outputs": [],
   "source": [
    "# Create a model save checkpoint\n",
    "model_checkpoint_callback = callbacks.ModelCheckpoint(\n",
    "    filepath=\"./checkpoint/checkpoint.ckpt\",\n",
    "    save_weights_only=True,\n",
    "    save_freq=\"epoch\",\n",
    "    verbose=0,\n",
    ")\n",
    "\n",
    "tensorboard_callback = callbacks.TensorBoard(log_dir=\"./logs\")\n",
    "\n",
    "# Tokenize starting prompt\n",
    "text_generator = TextGenerator(vocab)"
   ]
  },
  {
   "cell_type": "code",
   "execution_count": 38,
   "id": "461c2b3e-b5ae-4def-8bd9-e7bab8c63d8e",
   "metadata": {
    "tags": []
   },
   "outputs": [
    {
     "name": "stdout",
     "output_type": "stream",
     "text": [
      "Epoch 1/5\n",
      "   6/4060 [..............................] - ETA: 5:45 - loss: 8.1679 - dense_2_loss: 8.1679WARNING:tensorflow:Callback method `on_train_batch_end` is slow compared to the batch time (batch time: 0.0399s vs `on_train_batch_end` time: 0.0427s). Check your callbacks.\n",
      "4060/4060 [==============================] - ETA: 0s - loss: 2.2540 - dense_2_loss: 2.2540\n",
      "generated text:\n",
      "wine review : spain : northern spain : tempranillo : a nice things tinged with animal hide , dark - fruit aromas , milk chocolate and [UNK] set up the palate . this feels flush , acidic , with deep ; nothing can be one remember . blackberry and cassis flavors show through the finish . \n",
      "\n",
      "4060/4060 [==============================] - 359s 88ms/step - loss: 2.2540 - dense_2_loss: 2.2540\n",
      "Epoch 2/5\n",
      "4060/4060 [==============================] - ETA: 0s - loss: 1.9583 - dense_2_loss: 1.9583\n",
      "generated text:\n",
      "wine review : us : california : zinfandel : never too brittle . it ' s kind of acidity , and even housed in [UNK] , with raspberries , black pepper , currants and spice . the wine is full bodied , chewy and juicy in flavor , but could use longer . \n",
      "\n",
      "4060/4060 [==============================] - 355s 88ms/step - loss: 1.9583 - dense_2_loss: 1.9583\n",
      "Epoch 3/5\n",
      "4060/4060 [==============================] - ETA: 0s - loss: 1.8873 - dense_2_loss: 1.8873\n",
      "generated text:\n",
      "wine review : italy : northeastern italy : sparkling blend : the simple , fruity quality of the nose after a playful touch of peach and pear lead the way on the close . informal sparkler would pair with grilled tuna bouschet or chardonnay . \n",
      "\n",
      "4060/4060 [==============================] - 348s 86ms/step - loss: 1.8873 - dense_2_loss: 1.8873\n",
      "Epoch 4/5\n",
      "4060/4060 [==============================] - ETA: 0s - loss: 1.8452 - dense_2_loss: 1.8452\n",
      "generated text:\n",
      "wine review : us : california : merlot : the tannin plays prominently in play amidst brambly of leather , truffle and pencil lead on this medium - bodied , soft and a drop finish of graham cracker . the wine spent 16 months sur lie in oak and ultimately help soften the tannins add a fully - evolving finish . \n",
      "\n",
      "4060/4060 [==============================] - 350s 86ms/step - loss: 1.8452 - dense_2_loss: 1.8452\n",
      "Epoch 5/5\n",
      "4060/4060 [==============================] - ETA: 0s - loss: 1.8152 - dense_2_loss: 1.8152\n",
      "generated text:\n",
      "wine review : spain : northern spain : tempranillo : saucy , earthy berry aromas are basic and are among the best [UNK] . this crianza has a regional blend of cabernet sauvignon , herbal cherry and roasted herb flavors . healthy , herbal fully oaked , short and one expects from vintages , more and throw for its own after a couple years . \n",
      "\n",
      "4060/4060 [==============================] - 350s 86ms/step - loss: 1.8152 - dense_2_loss: 1.8152\n"
     ]
    },
    {
     "data": {
      "text/plain": [
       "<keras.callbacks.History at 0x7fc2d94269d0>"
      ]
     },
     "execution_count": 38,
     "metadata": {},
     "output_type": "execute_result"
    }
   ],
   "source": [
    "gpt.fit(\n",
    "    train_ds,\n",
    "    epochs=EPOCHS,\n",
    "    callbacks=[model_checkpoint_callback, tensorboard_callback, text_generator],\n",
    ")"
   ]
  },
  {
   "cell_type": "code",
   "execution_count": 39,
   "id": "369bde44-2e39-4bc6-8549-a3a27ecce55c",
   "metadata": {
    "tags": []
   },
   "outputs": [
    {
     "name": "stderr",
     "output_type": "stream",
     "text": [
      "WARNING:absl:Found untraced functions such as embedding_layer_call_fn, embedding_layer_call_and_return_conditional_losses, embedding_1_layer_call_fn, embedding_1_layer_call_and_return_conditional_losses, multi_head_attention_layer_call_fn while saving (showing 5 of 30). These functions will not be directly callable after loading.\n"
     ]
    },
    {
     "name": "stdout",
     "output_type": "stream",
     "text": [
      "INFO:tensorflow:Assets written to: ./models/gpt/assets\n"
     ]
    },
    {
     "name": "stderr",
     "output_type": "stream",
     "text": [
      "INFO:tensorflow:Assets written to: ./models/gpt/assets\n"
     ]
    }
   ],
   "source": [
    "# Save the final model\n",
    "gpt.save(\"./models/gpt\")"
   ]
  },
  {
   "cell_type": "markdown",
   "id": "d64e02d2-84dc-40c8-8446-40c09adf1e20",
   "metadata": {},
   "source": [
    "# 3. Generate text using the Transformer"
   ]
  },
  {
   "cell_type": "code",
   "execution_count": 40,
   "id": "4ad23adb-3ec9-4e9a-9a59-b9f9bafca649",
   "metadata": {},
   "outputs": [],
   "source": [
    "def print_probs(info, vocab, top_k=5):\n",
    "    for i in info:\n",
    "        highlighted_text = []\n",
    "        for word, att_score in zip(\n",
    "            i[\"prompt\"].split(), np.mean(i[\"atts\"], axis=0)\n",
    "        ):\n",
    "            highlighted_text.append(\n",
    "                '<span style=\"background-color:rgba(135,206,250,'\n",
    "                + str(att_score / max(np.mean(i[\"atts\"], axis=0)))\n",
    "                + ');\">'\n",
    "                + word\n",
    "                + \"</span>\"\n",
    "            )\n",
    "        highlighted_text = \" \".join(highlighted_text)\n",
    "        display(HTML(highlighted_text))\n",
    "\n",
    "        word_probs = i[\"word_probs\"]\n",
    "        p_sorted = np.sort(word_probs)[::-1][:top_k]\n",
    "        i_sorted = np.argsort(word_probs)[::-1][:top_k]\n",
    "        for p, i in zip(p_sorted, i_sorted):\n",
    "            print(f\"{vocab[i]}:   \\t{np.round(100*p,2)}%\")\n",
    "        print(\"--------\\n\")"
   ]
  },
  {
   "cell_type": "code",
   "execution_count": 41,
   "id": "3cf25578-d47c-4b26-8252-fcdf2316a4ac",
   "metadata": {},
   "outputs": [
    {
     "name": "stdout",
     "output_type": "stream",
     "text": [
      "\n",
      "generated text:\n",
      "wine review : us : oregon : pinot noir : [UNK] crew rabbit ranch sources for the craft this crisp , fresh but disappointing in proportion . a bit of vineyards in this brings a good persistence of cherry . it could benefit from additional bottle age for another decade . \n",
      "\n"
     ]
    }
   ],
   "source": [
    "info = text_generator.generate(\n",
    "    \"wine review : us\", max_tokens=80, temperature=1.0\n",
    ")"
   ]
  },
  {
   "cell_type": "code",
   "execution_count": 42,
   "id": "4ae2da8e-9b7c-4b71-b37b-021115b3d7ea",
   "metadata": {},
   "outputs": [
    {
     "name": "stdout",
     "output_type": "stream",
     "text": [
      "\n",
      "generated text:\n",
      "wine review : italy : tuscany : red blend : a blend of cabernet sauvignon and merlot , this offers a fine bouquet of blue flowers , leather , tobacco , black olive and spice . the palate is rich and full bodied , with a polished texture and a long , lingering finish . \n",
      "\n"
     ]
    }
   ],
   "source": [
    "info = text_generator.generate(\n",
    "    \"wine review : italy\", max_tokens=80, temperature=0.5\n",
    ")"
   ]
  },
  {
   "cell_type": "code",
   "execution_count": 43,
   "id": "5cae6d5d-263d-4455-b96c-f315cbe284ee",
   "metadata": {},
   "outputs": [
    {
     "name": "stdout",
     "output_type": "stream",
     "text": [
      "\n",
      "generated text:\n",
      "wine review : germany : mosel : riesling : whiffs of smoke and slate lend a savory tone to pressed apple and pineapple in this dry , off - dry riesling . it ' s juicy in tangerine and lime acidity , finishing with a brisk , fresh finish . \n",
      "\n"
     ]
    },
    {
     "data": {
      "text/html": [
       "<span style=\"background-color:rgba(135,206,250,1.0);\">wine</span> <span style=\"background-color:rgba(135,206,250,0.89471024);\">review</span> <span style=\"background-color:rgba(135,206,250,0.5765809);\">:</span> <span style=\"background-color:rgba(135,206,250,0.28424352);\">germany</span>"
      ],
      "text/plain": [
       "<IPython.core.display.HTML object>"
      ]
     },
     "metadata": {},
     "output_type": "display_data"
    },
    {
     "name": "stdout",
     "output_type": "stream",
     "text": [
      "::   \t100.0%\n",
      "grosso:   \t0.0%\n",
      "zealand:   \t0.0%\n",
      "-:   \t0.0%\n",
      "africa:   \t0.0%\n",
      "--------\n",
      "\n"
     ]
    },
    {
     "data": {
      "text/html": [
       "<span style=\"background-color:rgba(135,206,250,0.29782015);\">wine</span> <span style=\"background-color:rgba(135,206,250,0.3348654);\">review</span> <span style=\"background-color:rgba(135,206,250,0.38783562);\">:</span> <span style=\"background-color:rgba(135,206,250,1.0);\">germany</span> <span style=\"background-color:rgba(135,206,250,0.25877756);\">:</span>"
      ],
      "text/plain": [
       "<IPython.core.display.HTML object>"
      ]
     },
     "metadata": {},
     "output_type": "display_data"
    },
    {
     "name": "stdout",
     "output_type": "stream",
     "text": [
      "mosel:   \t84.67%\n",
      "rheingau:   \t7.81%\n",
      "rheinhessen:   \t6.66%\n",
      "nahe:   \t0.48%\n",
      "pfalz:   \t0.27%\n",
      "--------\n",
      "\n"
     ]
    },
    {
     "data": {
      "text/html": [
       "<span style=\"background-color:rgba(135,206,250,1.0);\">wine</span> <span style=\"background-color:rgba(135,206,250,0.9052199);\">review</span> <span style=\"background-color:rgba(135,206,250,0.3547019);\">:</span> <span style=\"background-color:rgba(135,206,250,0.116148874);\">germany</span> <span style=\"background-color:rgba(135,206,250,0.7235415);\">:</span> <span style=\"background-color:rgba(135,206,250,0.23715058);\">mosel</span>"
      ],
      "text/plain": [
       "<IPython.core.display.HTML object>"
      ]
     },
     "metadata": {},
     "output_type": "display_data"
    },
    {
     "name": "stdout",
     "output_type": "stream",
     "text": [
      "::   \t99.99%\n",
      "-:   \t0.01%\n",
      "grosso:   \t0.0%\n",
      "blanc:   \t0.0%\n",
      "valley:   \t0.0%\n",
      "--------\n",
      "\n"
     ]
    },
    {
     "data": {
      "text/html": [
       "<span style=\"background-color:rgba(135,206,250,0.25584057);\">wine</span> <span style=\"background-color:rgba(135,206,250,0.24561673);\">review</span> <span style=\"background-color:rgba(135,206,250,0.161878);\">:</span> <span style=\"background-color:rgba(135,206,250,0.32534274);\">germany</span> <span style=\"background-color:rgba(135,206,250,0.16965066);\">:</span> <span style=\"background-color:rgba(135,206,250,1.0);\">mosel</span> <span style=\"background-color:rgba(135,206,250,0.1748);\">:</span>"
      ],
      "text/plain": [
       "<IPython.core.display.HTML object>"
      ]
     },
     "metadata": {},
     "output_type": "display_data"
    },
    {
     "name": "stdout",
     "output_type": "stream",
     "text": [
      "riesling:   \t99.87%\n",
      "spätburgunder:   \t0.04%\n",
      "weissburgunder:   \t0.04%\n",
      "pinot:   \t0.01%\n",
      "sparkling:   \t0.01%\n",
      "--------\n",
      "\n"
     ]
    },
    {
     "data": {
      "text/html": [
       "<span style=\"background-color:rgba(135,206,250,0.7747094);\">wine</span> <span style=\"background-color:rgba(135,206,250,1.0);\">review</span> <span style=\"background-color:rgba(135,206,250,0.4126748);\">:</span> <span style=\"background-color:rgba(135,206,250,0.18369314);\">germany</span> <span style=\"background-color:rgba(135,206,250,0.5938516);\">:</span> <span style=\"background-color:rgba(135,206,250,0.39982265);\">mosel</span> <span style=\"background-color:rgba(135,206,250,0.40825763);\">:</span> <span style=\"background-color:rgba(135,206,250,0.14969361);\">riesling</span>"
      ],
      "text/plain": [
       "<IPython.core.display.HTML object>"
      ]
     },
     "metadata": {},
     "output_type": "display_data"
    },
    {
     "name": "stdout",
     "output_type": "stream",
     "text": [
      "::   \t100.0%\n",
      "-:   \t0.0%\n",
      "blanc:   \t0.0%\n",
      "grosso:   \t0.0%\n",
      "blend:   \t0.0%\n",
      "--------\n",
      "\n"
     ]
    },
    {
     "data": {
      "text/html": [
       "<span style=\"background-color:rgba(135,206,250,0.7815439);\">wine</span> <span style=\"background-color:rgba(135,206,250,0.82632726);\">review</span> <span style=\"background-color:rgba(135,206,250,0.44483325);\">:</span> <span style=\"background-color:rgba(135,206,250,0.68501157);\">germany</span> <span style=\"background-color:rgba(135,206,250,0.5571649);\">:</span> <span style=\"background-color:rgba(135,206,250,1.0);\">mosel</span> <span style=\"background-color:rgba(135,206,250,0.6295645);\">:</span> <span style=\"background-color:rgba(135,206,250,0.6927419);\">riesling</span> <span style=\"background-color:rgba(135,206,250,0.6423752);\">:</span>"
      ],
      "text/plain": [
       "<IPython.core.display.HTML object>"
      ]
     },
     "metadata": {},
     "output_type": "display_data"
    },
    {
     "name": "stdout",
     "output_type": "stream",
     "text": [
      "a:   \t46.16%\n",
      "whiffs:   \t11.16%\n",
      "dusty:   \t6.34%\n",
      "smoke:   \t4.36%\n",
      "the:   \t3.97%\n",
      "--------\n",
      "\n"
     ]
    },
    {
     "data": {
      "text/html": [
       "<span style=\"background-color:rgba(135,206,250,0.90691745);\">wine</span> <span style=\"background-color:rgba(135,206,250,1.0);\">review</span> <span style=\"background-color:rgba(135,206,250,0.42244074);\">:</span> <span style=\"background-color:rgba(135,206,250,0.23316336);\">germany</span> <span style=\"background-color:rgba(135,206,250,0.6407632);\">:</span> <span style=\"background-color:rgba(135,206,250,0.21359557);\">mosel</span> <span style=\"background-color:rgba(135,206,250,0.27446344);\">:</span> <span style=\"background-color:rgba(135,206,250,0.22262397);\">riesling</span> <span style=\"background-color:rgba(135,206,250,0.67929935);\">:</span> <span style=\"background-color:rgba(135,206,250,0.37700504);\">whiffs</span>"
      ],
      "text/plain": [
       "<IPython.core.display.HTML object>"
      ]
     },
     "metadata": {},
     "output_type": "display_data"
    },
    {
     "name": "stdout",
     "output_type": "stream",
     "text": [
      "of:   \t100.0%\n",
      "suggesting:   \t0.0%\n",
      "and:   \t0.0%\n",
      "like:   \t0.0%\n",
      "recall:   \t0.0%\n",
      "--------\n",
      "\n"
     ]
    },
    {
     "data": {
      "text/html": [
       "<span style=\"background-color:rgba(135,206,250,0.49609253);\">wine</span> <span style=\"background-color:rgba(135,206,250,0.5338953);\">review</span> <span style=\"background-color:rgba(135,206,250,0.22647104);\">:</span> <span style=\"background-color:rgba(135,206,250,0.29412362);\">germany</span> <span style=\"background-color:rgba(135,206,250,0.25334486);\">:</span> <span style=\"background-color:rgba(135,206,250,0.37223762);\">mosel</span> <span style=\"background-color:rgba(135,206,250,0.23474866);\">:</span> <span style=\"background-color:rgba(135,206,250,0.33438835);\">riesling</span> <span style=\"background-color:rgba(135,206,250,0.3697298);\">:</span> <span style=\"background-color:rgba(135,206,250,1.0);\">whiffs</span> <span style=\"background-color:rgba(135,206,250,0.221658);\">of</span>"
      ],
      "text/plain": [
       "<IPython.core.display.HTML object>"
      ]
     },
     "metadata": {},
     "output_type": "display_data"
    },
    {
     "name": "stdout",
     "output_type": "stream",
     "text": [
      "smoke:   \t90.14%\n",
      "crushed:   \t1.64%\n",
      "saffron:   \t1.56%\n",
      "lanolin:   \t1.53%\n",
      "slate:   \t1.39%\n",
      "--------\n",
      "\n"
     ]
    },
    {
     "data": {
      "text/html": [
       "<span style=\"background-color:rgba(135,206,250,0.8057828);\">wine</span> <span style=\"background-color:rgba(135,206,250,0.78411967);\">review</span> <span style=\"background-color:rgba(135,206,250,0.44249606);\">:</span> <span style=\"background-color:rgba(135,206,250,0.39387205);\">germany</span> <span style=\"background-color:rgba(135,206,250,0.37098998);\">:</span> <span style=\"background-color:rgba(135,206,250,0.16627333);\">mosel</span> <span style=\"background-color:rgba(135,206,250,0.24009657);\">:</span> <span style=\"background-color:rgba(135,206,250,0.15531175);\">riesling</span> <span style=\"background-color:rgba(135,206,250,0.4342276);\">:</span> <span style=\"background-color:rgba(135,206,250,0.9128612);\">whiffs</span> <span style=\"background-color:rgba(135,206,250,1.0);\">of</span> <span style=\"background-color:rgba(135,206,250,0.5698915);\">smoke</span>"
      ],
      "text/plain": [
       "<IPython.core.display.HTML object>"
      ]
     },
     "metadata": {},
     "output_type": "display_data"
    },
    {
     "name": "stdout",
     "output_type": "stream",
     "text": [
      "and:   \t98.23%\n",
      ",:   \t1.69%\n",
      "lend:   \t0.07%\n",
      "accent:   \t0.01%\n",
      "add:   \t0.0%\n",
      "--------\n",
      "\n"
     ]
    },
    {
     "data": {
      "text/html": [
       "<span style=\"background-color:rgba(135,206,250,0.20217812);\">wine</span> <span style=\"background-color:rgba(135,206,250,0.26359615);\">review</span> <span style=\"background-color:rgba(135,206,250,0.15338139);\">:</span> <span style=\"background-color:rgba(135,206,250,0.25096232);\">germany</span> <span style=\"background-color:rgba(135,206,250,0.11745235);\">:</span> <span style=\"background-color:rgba(135,206,250,0.19947375);\">mosel</span> <span style=\"background-color:rgba(135,206,250,0.09604076);\">:</span> <span style=\"background-color:rgba(135,206,250,0.21832594);\">riesling</span> <span style=\"background-color:rgba(135,206,250,0.14003655);\">:</span> <span style=\"background-color:rgba(135,206,250,0.46726847);\">whiffs</span> <span style=\"background-color:rgba(135,206,250,0.2800175);\">of</span> <span style=\"background-color:rgba(135,206,250,1.0);\">smoke</span> <span style=\"background-color:rgba(135,206,250,0.16193806);\">and</span>"
      ],
      "text/plain": [
       "<IPython.core.display.HTML object>"
      ]
     },
     "metadata": {},
     "output_type": "display_data"
    },
    {
     "name": "stdout",
     "output_type": "stream",
     "text": [
      "crushed:   \t26.76%\n",
      "earth:   \t22.66%\n",
      "slate:   \t21.44%\n",
      "smoke:   \t14.55%\n",
      "bramble:   \t2.38%\n",
      "--------\n",
      "\n"
     ]
    },
    {
     "data": {
      "text/html": [
       "<span style=\"background-color:rgba(135,206,250,0.6523364);\">wine</span> <span style=\"background-color:rgba(135,206,250,0.56468385);\">review</span> <span style=\"background-color:rgba(135,206,250,0.5668125);\">:</span> <span style=\"background-color:rgba(135,206,250,0.54381216);\">germany</span> <span style=\"background-color:rgba(135,206,250,0.39459282);\">:</span> <span style=\"background-color:rgba(135,206,250,0.18981554);\">mosel</span> <span style=\"background-color:rgba(135,206,250,0.3145882);\">:</span> <span style=\"background-color:rgba(135,206,250,0.17508395);\">riesling</span> <span style=\"background-color:rgba(135,206,250,0.37412125);\">:</span> <span style=\"background-color:rgba(135,206,250,0.8054334);\">whiffs</span> <span style=\"background-color:rgba(135,206,250,0.8641545);\">of</span> <span style=\"background-color:rgba(135,206,250,0.458354);\">smoke</span> <span style=\"background-color:rgba(135,206,250,1.0);\">and</span> <span style=\"background-color:rgba(135,206,250,0.57923585);\">slate</span>"
      ],
      "text/plain": [
       "<IPython.core.display.HTML object>"
      ]
     },
     "metadata": {},
     "output_type": "display_data"
    },
    {
     "name": "stdout",
     "output_type": "stream",
     "text": [
      "lend:   \t95.81%\n",
      "add:   \t3.43%\n",
      "extend:   \t0.45%\n",
      "are:   \t0.11%\n",
      "accent:   \t0.07%\n",
      "--------\n",
      "\n"
     ]
    },
    {
     "data": {
      "text/html": [
       "<span style=\"background-color:rgba(135,206,250,0.732822);\">wine</span> <span style=\"background-color:rgba(135,206,250,1.0);\">review</span> <span style=\"background-color:rgba(135,206,250,0.4939164);\">:</span> <span style=\"background-color:rgba(135,206,250,0.48817348);\">germany</span> <span style=\"background-color:rgba(135,206,250,0.5725031);\">:</span> <span style=\"background-color:rgba(135,206,250,0.544852);\">mosel</span> <span style=\"background-color:rgba(135,206,250,0.27369592);\">:</span> <span style=\"background-color:rgba(135,206,250,0.33254924);\">riesling</span> <span style=\"background-color:rgba(135,206,250,0.4113261);\">:</span> <span style=\"background-color:rgba(135,206,250,0.45618457);\">whiffs</span> <span style=\"background-color:rgba(135,206,250,0.3489696);\">of</span> <span style=\"background-color:rgba(135,206,250,0.9330217);\">smoke</span> <span style=\"background-color:rgba(135,206,250,0.7354107);\">and</span> <span style=\"background-color:rgba(135,206,250,0.9624892);\">slate</span> <span style=\"background-color:rgba(135,206,250,0.5458209);\">lend</span>"
      ],
      "text/plain": [
       "<IPython.core.display.HTML object>"
      ]
     },
     "metadata": {},
     "output_type": "display_data"
    },
    {
     "name": "stdout",
     "output_type": "stream",
     "text": [
      "a:   \t84.63%\n",
      "complexity:   \t8.53%\n",
      "an:   \t2.3%\n",
      "savory:   \t1.87%\n",
      "nuance:   \t0.78%\n",
      "--------\n",
      "\n"
     ]
    },
    {
     "data": {
      "text/html": [
       "<span style=\"background-color:rgba(135,206,250,0.22139315);\">wine</span> <span style=\"background-color:rgba(135,206,250,0.22940345);\">review</span> <span style=\"background-color:rgba(135,206,250,0.13904662);\">:</span> <span style=\"background-color:rgba(135,206,250,0.23567113);\">germany</span> <span style=\"background-color:rgba(135,206,250,0.104470626);\">:</span> <span style=\"background-color:rgba(135,206,250,0.23434678);\">mosel</span> <span style=\"background-color:rgba(135,206,250,0.07425423);\">:</span> <span style=\"background-color:rgba(135,206,250,0.20323722);\">riesling</span> <span style=\"background-color:rgba(135,206,250,0.13046898);\">:</span> <span style=\"background-color:rgba(135,206,250,0.2289169);\">whiffs</span> <span style=\"background-color:rgba(135,206,250,0.16654117);\">of</span> <span style=\"background-color:rgba(135,206,250,0.29137254);\">smoke</span> <span style=\"background-color:rgba(135,206,250,0.1937083);\">and</span> <span style=\"background-color:rgba(135,206,250,0.2966045);\">slate</span> <span style=\"background-color:rgba(135,206,250,1.0);\">lend</span> <span style=\"background-color:rgba(135,206,250,0.1701282);\">a</span>"
      ],
      "text/plain": [
       "<IPython.core.display.HTML object>"
      ]
     },
     "metadata": {},
     "output_type": "display_data"
    },
    {
     "name": "stdout",
     "output_type": "stream",
     "text": [
      "savory:   \t98.44%\n",
      "fresh:   \t0.19%\n",
      "dusty:   \t0.15%\n",
      "delicate:   \t0.15%\n",
      "sultry:   \t0.13%\n",
      "--------\n",
      "\n"
     ]
    },
    {
     "data": {
      "text/html": [
       "<span style=\"background-color:rgba(135,206,250,0.1538032);\">wine</span> <span style=\"background-color:rgba(135,206,250,0.1555371);\">review</span> <span style=\"background-color:rgba(135,206,250,0.16098681);\">:</span> <span style=\"background-color:rgba(135,206,250,0.25878498);\">germany</span> <span style=\"background-color:rgba(135,206,250,0.11277084);\">:</span> <span style=\"background-color:rgba(135,206,250,0.14846826);\">mosel</span> <span style=\"background-color:rgba(135,206,250,0.09235485);\">:</span> <span style=\"background-color:rgba(135,206,250,0.2249237);\">riesling</span> <span style=\"background-color:rgba(135,206,250,0.11696824);\">:</span> <span style=\"background-color:rgba(135,206,250,0.18581608);\">whiffs</span> <span style=\"background-color:rgba(135,206,250,0.12336064);\">of</span> <span style=\"background-color:rgba(135,206,250,0.11629954);\">smoke</span> <span style=\"background-color:rgba(135,206,250,0.10860721);\">and</span> <span style=\"background-color:rgba(135,206,250,0.18139482);\">slate</span> <span style=\"background-color:rgba(135,206,250,1.0);\">lend</span> <span style=\"background-color:rgba(135,206,250,0.54724133);\">a</span> <span style=\"background-color:rgba(135,206,250,0.11621752);\">savory</span>"
      ],
      "text/plain": [
       "<IPython.core.display.HTML object>"
      ]
     },
     "metadata": {},
     "output_type": "display_data"
    },
    {
     "name": "stdout",
     "output_type": "stream",
     "text": [
      "tone:   \t96.93%\n",
      ",:   \t1.62%\n",
      "complexity:   \t0.6%\n",
      "edge:   \t0.32%\n",
      "savory:   \t0.09%\n",
      "--------\n",
      "\n"
     ]
    },
    {
     "data": {
      "text/html": [
       "<span style=\"background-color:rgba(135,206,250,0.22009441);\">wine</span> <span style=\"background-color:rgba(135,206,250,0.24394238);\">review</span> <span style=\"background-color:rgba(135,206,250,0.35306433);\">:</span> <span style=\"background-color:rgba(135,206,250,0.1878528);\">germany</span> <span style=\"background-color:rgba(135,206,250,0.19042042);\">:</span> <span style=\"background-color:rgba(135,206,250,0.063219555);\">mosel</span> <span style=\"background-color:rgba(135,206,250,0.119334824);\">:</span> <span style=\"background-color:rgba(135,206,250,0.0970403);\">riesling</span> <span style=\"background-color:rgba(135,206,250,0.1582629);\">:</span> <span style=\"background-color:rgba(135,206,250,0.15094295);\">whiffs</span> <span style=\"background-color:rgba(135,206,250,0.18039834);\">of</span> <span style=\"background-color:rgba(135,206,250,0.08846403);\">smoke</span> <span style=\"background-color:rgba(135,206,250,0.13564323);\">and</span> <span style=\"background-color:rgba(135,206,250,0.14909238);\">slate</span> <span style=\"background-color:rgba(135,206,250,1.0);\">lend</span> <span style=\"background-color:rgba(135,206,250,0.3146976);\">a</span> <span style=\"background-color:rgba(135,206,250,0.17891215);\">savory</span> <span style=\"background-color:rgba(135,206,250,0.4348913);\">tone</span>"
      ],
      "text/plain": [
       "<IPython.core.display.HTML object>"
      ]
     },
     "metadata": {},
     "output_type": "display_data"
    },
    {
     "name": "stdout",
     "output_type": "stream",
     "text": [
      "to:   \t99.99%\n",
      "in:   \t0.01%\n",
      "on:   \t0.0%\n",
      ".:   \t0.0%\n",
      "and:   \t0.0%\n",
      "--------\n",
      "\n"
     ]
    },
    {
     "data": {
      "text/html": [
       "<span style=\"background-color:rgba(135,206,250,0.16431074);\">wine</span> <span style=\"background-color:rgba(135,206,250,0.1364357);\">review</span> <span style=\"background-color:rgba(135,206,250,0.17732002);\">:</span> <span style=\"background-color:rgba(135,206,250,0.2120258);\">germany</span> <span style=\"background-color:rgba(135,206,250,0.11820205);\">:</span> <span style=\"background-color:rgba(135,206,250,0.117825605);\">mosel</span> <span style=\"background-color:rgba(135,206,250,0.084371775);\">:</span> <span style=\"background-color:rgba(135,206,250,0.12613536);\">riesling</span> <span style=\"background-color:rgba(135,206,250,0.10796913);\">:</span> <span style=\"background-color:rgba(135,206,250,0.13095638);\">whiffs</span> <span style=\"background-color:rgba(135,206,250,0.08359192);\">of</span> <span style=\"background-color:rgba(135,206,250,0.089459606);\">smoke</span> <span style=\"background-color:rgba(135,206,250,0.07561064);\">and</span> <span style=\"background-color:rgba(135,206,250,0.10479713);\">slate</span> <span style=\"background-color:rgba(135,206,250,0.39284277);\">lend</span> <span style=\"background-color:rgba(135,206,250,0.13718885);\">a</span> <span style=\"background-color:rgba(135,206,250,0.22874333);\">savory</span> <span style=\"background-color:rgba(135,206,250,1.0);\">tone</span> <span style=\"background-color:rgba(135,206,250,0.103559405);\">to</span>"
      ],
      "text/plain": [
       "<IPython.core.display.HTML object>"
      ]
     },
     "metadata": {},
     "output_type": "display_data"
    },
    {
     "name": "stdout",
     "output_type": "stream",
     "text": [
      "pressed:   \t58.89%\n",
      "this:   \t21.32%\n",
      "ripe:   \t7.65%\n",
      "fresh:   \t4.63%\n",
      "preserved:   \t3.44%\n",
      "--------\n",
      "\n"
     ]
    },
    {
     "data": {
      "text/html": [
       "<span style=\"background-color:rgba(135,206,250,0.31651682);\">wine</span> <span style=\"background-color:rgba(135,206,250,0.3976598);\">review</span> <span style=\"background-color:rgba(135,206,250,0.40407276);\">:</span> <span style=\"background-color:rgba(135,206,250,0.6013445);\">germany</span> <span style=\"background-color:rgba(135,206,250,0.28774792);\">:</span> <span style=\"background-color:rgba(135,206,250,0.45956615);\">mosel</span> <span style=\"background-color:rgba(135,206,250,0.29305002);\">:</span> <span style=\"background-color:rgba(135,206,250,0.5318476);\">riesling</span> <span style=\"background-color:rgba(135,206,250,0.33268884);\">:</span> <span style=\"background-color:rgba(135,206,250,0.26518488);\">whiffs</span> <span style=\"background-color:rgba(135,206,250,0.19052555);\">of</span> <span style=\"background-color:rgba(135,206,250,0.24278964);\">smoke</span> <span style=\"background-color:rgba(135,206,250,0.29817986);\">and</span> <span style=\"background-color:rgba(135,206,250,0.32870117);\">slate</span> <span style=\"background-color:rgba(135,206,250,0.5156276);\">lend</span> <span style=\"background-color:rgba(135,206,250,0.62109816);\">a</span> <span style=\"background-color:rgba(135,206,250,0.5290998);\">savory</span> <span style=\"background-color:rgba(135,206,250,1.0);\">tone</span> <span style=\"background-color:rgba(135,206,250,0.8269752);\">to</span> <span style=\"background-color:rgba(135,206,250,0.40644664);\">pressed</span>"
      ],
      "text/plain": [
       "<IPython.core.display.HTML object>"
      ]
     },
     "metadata": {},
     "output_type": "display_data"
    },
    {
     "name": "stdout",
     "output_type": "stream",
     "text": [
      "apple:   \t86.18%\n",
      "yellow:   \t9.19%\n",
      "apples:   \t4.36%\n",
      "peach:   \t0.05%\n",
      "white:   \t0.04%\n",
      "--------\n",
      "\n"
     ]
    },
    {
     "data": {
      "text/html": [
       "<span style=\"background-color:rgba(135,206,250,0.26286384);\">wine</span> <span style=\"background-color:rgba(135,206,250,0.28581023);\">review</span> <span style=\"background-color:rgba(135,206,250,0.4091965);\">:</span> <span style=\"background-color:rgba(135,206,250,0.46547666);\">germany</span> <span style=\"background-color:rgba(135,206,250,0.17674991);\">:</span> <span style=\"background-color:rgba(135,206,250,0.11125974);\">mosel</span> <span style=\"background-color:rgba(135,206,250,0.16972257);\">:</span> <span style=\"background-color:rgba(135,206,250,0.12556574);\">riesling</span> <span style=\"background-color:rgba(135,206,250,0.18037787);\">:</span> <span style=\"background-color:rgba(135,206,250,0.31151775);\">whiffs</span> <span style=\"background-color:rgba(135,206,250,0.20213245);\">of</span> <span style=\"background-color:rgba(135,206,250,0.16563635);\">smoke</span> <span style=\"background-color:rgba(135,206,250,0.13664787);\">and</span> <span style=\"background-color:rgba(135,206,250,0.20035307);\">slate</span> <span style=\"background-color:rgba(135,206,250,0.65140826);\">lend</span> <span style=\"background-color:rgba(135,206,250,0.39418736);\">a</span> <span style=\"background-color:rgba(135,206,250,0.18889336);\">savory</span> <span style=\"background-color:rgba(135,206,250,1.0);\">tone</span> <span style=\"background-color:rgba(135,206,250,0.6867391);\">to</span> <span style=\"background-color:rgba(135,206,250,0.4377828);\">pressed</span> <span style=\"background-color:rgba(135,206,250,0.33049813);\">apple</span>"
      ],
      "text/plain": [
       "<IPython.core.display.HTML object>"
      ]
     },
     "metadata": {},
     "output_type": "display_data"
    },
    {
     "name": "stdout",
     "output_type": "stream",
     "text": [
      "and:   \t98.41%\n",
      ",:   \t1.06%\n",
      "in:   \t0.47%\n",
      "on:   \t0.02%\n",
      "-:   \t0.02%\n",
      "--------\n",
      "\n"
     ]
    },
    {
     "data": {
      "text/html": [
       "<span style=\"background-color:rgba(135,206,250,0.10346343);\">wine</span> <span style=\"background-color:rgba(135,206,250,0.12771297);\">review</span> <span style=\"background-color:rgba(135,206,250,0.13291655);\">:</span> <span style=\"background-color:rgba(135,206,250,0.24627754);\">germany</span> <span style=\"background-color:rgba(135,206,250,0.07094237);\">:</span> <span style=\"background-color:rgba(135,206,250,0.14974885);\">mosel</span> <span style=\"background-color:rgba(135,206,250,0.06206986);\">:</span> <span style=\"background-color:rgba(135,206,250,0.21512124);\">riesling</span> <span style=\"background-color:rgba(135,206,250,0.098211974);\">:</span> <span style=\"background-color:rgba(135,206,250,0.13347326);\">whiffs</span> <span style=\"background-color:rgba(135,206,250,0.058730125);\">of</span> <span style=\"background-color:rgba(135,206,250,0.102316715);\">smoke</span> <span style=\"background-color:rgba(135,206,250,0.042891152);\">and</span> <span style=\"background-color:rgba(135,206,250,0.10441701);\">slate</span> <span style=\"background-color:rgba(135,206,250,0.18143725);\">lend</span> <span style=\"background-color:rgba(135,206,250,0.076659754);\">a</span> <span style=\"background-color:rgba(135,206,250,0.14041813);\">savory</span> <span style=\"background-color:rgba(135,206,250,0.32064715);\">tone</span> <span style=\"background-color:rgba(135,206,250,0.2809403);\">to</span> <span style=\"background-color:rgba(135,206,250,0.37379578);\">pressed</span> <span style=\"background-color:rgba(135,206,250,1.0);\">apple</span> <span style=\"background-color:rgba(135,206,250,0.21010368);\">and</span>"
      ],
      "text/plain": [
       "<IPython.core.display.HTML object>"
      ]
     },
     "metadata": {},
     "output_type": "display_data"
    },
    {
     "name": "stdout",
     "output_type": "stream",
     "text": [
      "pear:   \t87.31%\n",
      "lemon:   \t5.12%\n",
      "tangerine:   \t3.03%\n",
      "peach:   \t2.15%\n",
      "grapefruit:   \t0.89%\n",
      "--------\n",
      "\n"
     ]
    },
    {
     "data": {
      "text/html": [
       "<span style=\"background-color:rgba(135,206,250,0.21469182);\">wine</span> <span style=\"background-color:rgba(135,206,250,0.2229089);\">review</span> <span style=\"background-color:rgba(135,206,250,0.5550521);\">:</span> <span style=\"background-color:rgba(135,206,250,0.49847424);\">germany</span> <span style=\"background-color:rgba(135,206,250,0.16952127);\">:</span> <span style=\"background-color:rgba(135,206,250,0.078992784);\">mosel</span> <span style=\"background-color:rgba(135,206,250,0.17675486);\">:</span> <span style=\"background-color:rgba(135,206,250,0.12896025);\">riesling</span> <span style=\"background-color:rgba(135,206,250,0.17265627);\">:</span> <span style=\"background-color:rgba(135,206,250,0.23338962);\">whiffs</span> <span style=\"background-color:rgba(135,206,250,0.1724043);\">of</span> <span style=\"background-color:rgba(135,206,250,0.12618887);\">smoke</span> <span style=\"background-color:rgba(135,206,250,0.10639775);\">and</span> <span style=\"background-color:rgba(135,206,250,0.17433512);\">slate</span> <span style=\"background-color:rgba(135,206,250,0.5365062);\">lend</span> <span style=\"background-color:rgba(135,206,250,0.24091269);\">a</span> <span style=\"background-color:rgba(135,206,250,0.11039247);\">savory</span> <span style=\"background-color:rgba(135,206,250,0.409372);\">tone</span> <span style=\"background-color:rgba(135,206,250,0.43586823);\">to</span> <span style=\"background-color:rgba(135,206,250,0.22172625);\">pressed</span> <span style=\"background-color:rgba(135,206,250,0.28771716);\">apple</span> <span style=\"background-color:rgba(135,206,250,1.0);\">and</span> <span style=\"background-color:rgba(135,206,250,0.43093908);\">pineapple</span>"
      ],
      "text/plain": [
       "<IPython.core.display.HTML object>"
      ]
     },
     "metadata": {},
     "output_type": "display_data"
    },
    {
     "name": "stdout",
     "output_type": "stream",
     "text": [
      "in:   \t93.15%\n",
      "flavors:   \t4.39%\n",
      "on:   \t1.82%\n",
      "notes:   \t0.48%\n",
      "tones:   \t0.04%\n",
      "--------\n",
      "\n"
     ]
    },
    {
     "data": {
      "text/html": [
       "<span style=\"background-color:rgba(135,206,250,0.17943002);\">wine</span> <span style=\"background-color:rgba(135,206,250,0.16784);\">review</span> <span style=\"background-color:rgba(135,206,250,0.40559208);\">:</span> <span style=\"background-color:rgba(135,206,250,0.4722036);\">germany</span> <span style=\"background-color:rgba(135,206,250,0.14028567);\">:</span> <span style=\"background-color:rgba(135,206,250,0.20174743);\">mosel</span> <span style=\"background-color:rgba(135,206,250,0.14431372);\">:</span> <span style=\"background-color:rgba(135,206,250,0.2795192);\">riesling</span> <span style=\"background-color:rgba(135,206,250,0.16185012);\">:</span> <span style=\"background-color:rgba(135,206,250,0.19194269);\">whiffs</span> <span style=\"background-color:rgba(135,206,250,0.08980352);\">of</span> <span style=\"background-color:rgba(135,206,250,0.13757716);\">smoke</span> <span style=\"background-color:rgba(135,206,250,0.08255631);\">and</span> <span style=\"background-color:rgba(135,206,250,0.15421784);\">slate</span> <span style=\"background-color:rgba(135,206,250,0.22477168);\">lend</span> <span style=\"background-color:rgba(135,206,250,0.107434146);\">a</span> <span style=\"background-color:rgba(135,206,250,0.18796034);\">savory</span> <span style=\"background-color:rgba(135,206,250,0.35134077);\">tone</span> <span style=\"background-color:rgba(135,206,250,0.20761922);\">to</span> <span style=\"background-color:rgba(135,206,250,0.18729633);\">pressed</span> <span style=\"background-color:rgba(135,206,250,0.45450395);\">apple</span> <span style=\"background-color:rgba(135,206,250,0.6695606);\">and</span> <span style=\"background-color:rgba(135,206,250,1.0);\">pineapple</span> <span style=\"background-color:rgba(135,206,250,0.28193477);\">in</span>"
      ],
      "text/plain": [
       "<IPython.core.display.HTML object>"
      ]
     },
     "metadata": {},
     "output_type": "display_data"
    },
    {
     "name": "stdout",
     "output_type": "stream",
     "text": [
      "this:   \t100.0%\n",
      "the:   \t0.0%\n",
      "a:   \t0.0%\n",
      "an:   \t0.0%\n",
      "core:   \t0.0%\n",
      "--------\n",
      "\n"
     ]
    },
    {
     "data": {
      "text/html": [
       "<span style=\"background-color:rgba(135,206,250,0.1322679);\">wine</span> <span style=\"background-color:rgba(135,206,250,0.17569202);\">review</span> <span style=\"background-color:rgba(135,206,250,0.45803055);\">:</span> <span style=\"background-color:rgba(135,206,250,1.0);\">germany</span> <span style=\"background-color:rgba(135,206,250,0.08735734);\">:</span> <span style=\"background-color:rgba(135,206,250,0.30201697);\">mosel</span> <span style=\"background-color:rgba(135,206,250,0.116563916);\">:</span> <span style=\"background-color:rgba(135,206,250,0.47416264);\">riesling</span> <span style=\"background-color:rgba(135,206,250,0.1754016);\">:</span> <span style=\"background-color:rgba(135,206,250,0.19178624);\">whiffs</span> <span style=\"background-color:rgba(135,206,250,0.07279697);\">of</span> <span style=\"background-color:rgba(135,206,250,0.107784815);\">smoke</span> <span style=\"background-color:rgba(135,206,250,0.061399266);\">and</span> <span style=\"background-color:rgba(135,206,250,0.09222954);\">slate</span> <span style=\"background-color:rgba(135,206,250,0.11016179);\">lend</span> <span style=\"background-color:rgba(135,206,250,0.05887291);\">a</span> <span style=\"background-color:rgba(135,206,250,0.10111675);\">savory</span> <span style=\"background-color:rgba(135,206,250,0.20736688);\">tone</span> <span style=\"background-color:rgba(135,206,250,0.15742528);\">to</span> <span style=\"background-color:rgba(135,206,250,0.15256163);\">pressed</span> <span style=\"background-color:rgba(135,206,250,0.25873163);\">apple</span> <span style=\"background-color:rgba(135,206,250,0.22404827);\">and</span> <span style=\"background-color:rgba(135,206,250,0.39489615);\">pineapple</span> <span style=\"background-color:rgba(135,206,250,0.56839126);\">in</span> <span style=\"background-color:rgba(135,206,250,0.43689898);\">this</span>"
      ],
      "text/plain": [
       "<IPython.core.display.HTML object>"
      ]
     },
     "metadata": {},
     "output_type": "display_data"
    },
    {
     "name": "stdout",
     "output_type": "stream",
     "text": [
      "dry:   \t46.41%\n",
      "off:   \t21.27%\n",
      "intensely:   \t9.24%\n",
      "gorgeously:   \t3.25%\n",
      "bristling:   \t1.7%\n",
      "--------\n",
      "\n"
     ]
    },
    {
     "data": {
      "text/html": [
       "<span style=\"background-color:rgba(135,206,250,0.10284629);\">wine</span> <span style=\"background-color:rgba(135,206,250,0.092291676);\">review</span> <span style=\"background-color:rgba(135,206,250,0.15753073);\">:</span> <span style=\"background-color:rgba(135,206,250,0.280789);\">germany</span> <span style=\"background-color:rgba(135,206,250,0.08486463);\">:</span> <span style=\"background-color:rgba(135,206,250,0.13664865);\">mosel</span> <span style=\"background-color:rgba(135,206,250,0.08023279);\">:</span> <span style=\"background-color:rgba(135,206,250,0.27873018);\">riesling</span> <span style=\"background-color:rgba(135,206,250,0.10873161);\">:</span> <span style=\"background-color:rgba(135,206,250,0.08835605);\">whiffs</span> <span style=\"background-color:rgba(135,206,250,0.06477514);\">of</span> <span style=\"background-color:rgba(135,206,250,0.05277773);\">smoke</span> <span style=\"background-color:rgba(135,206,250,0.05103704);\">and</span> <span style=\"background-color:rgba(135,206,250,0.05950876);\">slate</span> <span style=\"background-color:rgba(135,206,250,0.12654008);\">lend</span> <span style=\"background-color:rgba(135,206,250,0.03726032);\">a</span> <span style=\"background-color:rgba(135,206,250,0.030701201);\">savory</span> <span style=\"background-color:rgba(135,206,250,0.13309868);\">tone</span> <span style=\"background-color:rgba(135,206,250,0.098971665);\">to</span> <span style=\"background-color:rgba(135,206,250,0.07806533);\">pressed</span> <span style=\"background-color:rgba(135,206,250,0.18532228);\">apple</span> <span style=\"background-color:rgba(135,206,250,0.15419418);\">and</span> <span style=\"background-color:rgba(135,206,250,0.33778182);\">pineapple</span> <span style=\"background-color:rgba(135,206,250,0.42852524);\">in</span> <span style=\"background-color:rgba(135,206,250,1.0);\">this</span> <span style=\"background-color:rgba(135,206,250,0.2136001);\">dry</span>"
      ],
      "text/plain": [
       "<IPython.core.display.HTML object>"
      ]
     },
     "metadata": {},
     "output_type": "display_data"
    },
    {
     "name": "stdout",
     "output_type": "stream",
     "text": [
      ",:   \t99.12%\n",
      "riesling:   \t0.59%\n",
      "yet:   \t0.15%\n",
      "wine:   \t0.04%\n",
      "spätlese:   \t0.03%\n",
      "--------\n",
      "\n"
     ]
    },
    {
     "data": {
      "text/html": [
       "<span style=\"background-color:rgba(135,206,250,0.101690456);\">wine</span> <span style=\"background-color:rgba(135,206,250,0.15941);\">review</span> <span style=\"background-color:rgba(135,206,250,0.2065444);\">:</span> <span style=\"background-color:rgba(135,206,250,0.3689264);\">germany</span> <span style=\"background-color:rgba(135,206,250,0.07099262);\">:</span> <span style=\"background-color:rgba(135,206,250,0.14031117);\">mosel</span> <span style=\"background-color:rgba(135,206,250,0.08191155);\">:</span> <span style=\"background-color:rgba(135,206,250,0.27786097);\">riesling</span> <span style=\"background-color:rgba(135,206,250,0.13315424);\">:</span> <span style=\"background-color:rgba(135,206,250,0.12751399);\">whiffs</span> <span style=\"background-color:rgba(135,206,250,0.079822175);\">of</span> <span style=\"background-color:rgba(135,206,250,0.09441296);\">smoke</span> <span style=\"background-color:rgba(135,206,250,0.06740689);\">and</span> <span style=\"background-color:rgba(135,206,250,0.08934367);\">slate</span> <span style=\"background-color:rgba(135,206,250,0.16962276);\">lend</span> <span style=\"background-color:rgba(135,206,250,0.049389396);\">a</span> <span style=\"background-color:rgba(135,206,250,0.07846147);\">savory</span> <span style=\"background-color:rgba(135,206,250,0.14456218);\">tone</span> <span style=\"background-color:rgba(135,206,250,0.11435186);\">to</span> <span style=\"background-color:rgba(135,206,250,0.10406904);\">pressed</span> <span style=\"background-color:rgba(135,206,250,0.27601242);\">apple</span> <span style=\"background-color:rgba(135,206,250,0.34185162);\">and</span> <span style=\"background-color:rgba(135,206,250,0.55650336);\">pineapple</span> <span style=\"background-color:rgba(135,206,250,0.34433553);\">in</span> <span style=\"background-color:rgba(135,206,250,0.7470044);\">this</span> <span style=\"background-color:rgba(135,206,250,1.0);\">dry</span> <span style=\"background-color:rgba(135,206,250,0.43992087);\">,</span>"
      ],
      "text/plain": [
       "<IPython.core.display.HTML object>"
      ]
     },
     "metadata": {},
     "output_type": "display_data"
    },
    {
     "name": "stdout",
     "output_type": "stream",
     "text": [
      "delicately:   \t25.26%\n",
      "intensely:   \t16.28%\n",
      "off:   \t11.8%\n",
      "crisp:   \t6.67%\n",
      "elegantly:   \t5.47%\n",
      "--------\n",
      "\n"
     ]
    },
    {
     "data": {
      "text/html": [
       "<span style=\"background-color:rgba(135,206,250,0.1653546);\">wine</span> <span style=\"background-color:rgba(135,206,250,0.15603715);\">review</span> <span style=\"background-color:rgba(135,206,250,0.30611527);\">:</span> <span style=\"background-color:rgba(135,206,250,0.24970347);\">germany</span> <span style=\"background-color:rgba(135,206,250,0.18550712);\">:</span> <span style=\"background-color:rgba(135,206,250,0.15132089);\">mosel</span> <span style=\"background-color:rgba(135,206,250,0.13415186);\">:</span> <span style=\"background-color:rgba(135,206,250,0.15734373);\">riesling</span> <span style=\"background-color:rgba(135,206,250,0.15765318);\">:</span> <span style=\"background-color:rgba(135,206,250,0.07570219);\">whiffs</span> <span style=\"background-color:rgba(135,206,250,0.07866005);\">of</span> <span style=\"background-color:rgba(135,206,250,0.05507125);\">smoke</span> <span style=\"background-color:rgba(135,206,250,0.07117642);\">and</span> <span style=\"background-color:rgba(135,206,250,0.09475882);\">slate</span> <span style=\"background-color:rgba(135,206,250,0.09565481);\">lend</span> <span style=\"background-color:rgba(135,206,250,0.06965866);\">a</span> <span style=\"background-color:rgba(135,206,250,0.07216402);\">savory</span> <span style=\"background-color:rgba(135,206,250,0.07861001);\">tone</span> <span style=\"background-color:rgba(135,206,250,0.10785383);\">to</span> <span style=\"background-color:rgba(135,206,250,0.09803629);\">pressed</span> <span style=\"background-color:rgba(135,206,250,0.1125465);\">apple</span> <span style=\"background-color:rgba(135,206,250,0.14615463);\">and</span> <span style=\"background-color:rgba(135,206,250,0.17301458);\">pineapple</span> <span style=\"background-color:rgba(135,206,250,0.25393784);\">in</span> <span style=\"background-color:rgba(135,206,250,0.7080022);\">this</span> <span style=\"background-color:rgba(135,206,250,0.56290376);\">dry</span> <span style=\"background-color:rgba(135,206,250,1.0);\">,</span> <span style=\"background-color:rgba(135,206,250,0.2753593);\">off</span>"
      ],
      "text/plain": [
       "<IPython.core.display.HTML object>"
      ]
     },
     "metadata": {},
     "output_type": "display_data"
    },
    {
     "name": "stdout",
     "output_type": "stream",
     "text": [
      "-:   \t100.0%\n",
      "dry:   \t0.0%\n",
      "by:   \t0.0%\n",
      "of:   \t0.0%\n",
      "and:   \t0.0%\n",
      "--------\n",
      "\n"
     ]
    },
    {
     "data": {
      "text/html": [
       "<span style=\"background-color:rgba(135,206,250,0.078858845);\">wine</span> <span style=\"background-color:rgba(135,206,250,0.057912864);\">review</span> <span style=\"background-color:rgba(135,206,250,0.09726486);\">:</span> <span style=\"background-color:rgba(135,206,250,0.09536978);\">germany</span> <span style=\"background-color:rgba(135,206,250,0.08030415);\">:</span> <span style=\"background-color:rgba(135,206,250,0.07353041);\">mosel</span> <span style=\"background-color:rgba(135,206,250,0.0516629);\">:</span> <span style=\"background-color:rgba(135,206,250,0.10997921);\">riesling</span> <span style=\"background-color:rgba(135,206,250,0.06435733);\">:</span> <span style=\"background-color:rgba(135,206,250,0.047116097);\">whiffs</span> <span style=\"background-color:rgba(135,206,250,0.03647577);\">of</span> <span style=\"background-color:rgba(135,206,250,0.025531216);\">smoke</span> <span style=\"background-color:rgba(135,206,250,0.031194318);\">and</span> <span style=\"background-color:rgba(135,206,250,0.04898931);\">slate</span> <span style=\"background-color:rgba(135,206,250,0.04070557);\">lend</span> <span style=\"background-color:rgba(135,206,250,0.029321704);\">a</span> <span style=\"background-color:rgba(135,206,250,0.024845582);\">savory</span> <span style=\"background-color:rgba(135,206,250,0.027849337);\">tone</span> <span style=\"background-color:rgba(135,206,250,0.030658916);\">to</span> <span style=\"background-color:rgba(135,206,250,0.03292032);\">pressed</span> <span style=\"background-color:rgba(135,206,250,0.049772378);\">apple</span> <span style=\"background-color:rgba(135,206,250,0.047208864);\">and</span> <span style=\"background-color:rgba(135,206,250,0.0802679);\">pineapple</span> <span style=\"background-color:rgba(135,206,250,0.06394164);\">in</span> <span style=\"background-color:rgba(135,206,250,0.11677723);\">this</span> <span style=\"background-color:rgba(135,206,250,0.19044532);\">dry</span> <span style=\"background-color:rgba(135,206,250,0.1549117);\">,</span> <span style=\"background-color:rgba(135,206,250,1.0);\">off</span> <span style=\"background-color:rgba(135,206,250,0.047360122);\">-</span>"
      ],
      "text/plain": [
       "<IPython.core.display.HTML object>"
      ]
     },
     "metadata": {},
     "output_type": "display_data"
    },
    {
     "name": "stdout",
     "output_type": "stream",
     "text": [
      "dry:   \t100.0%\n",
      "[UNK]:   \t0.0%\n",
      "sweet:   \t0.0%\n",
      "savory:   \t0.0%\n",
      "to:   \t0.0%\n",
      "--------\n",
      "\n"
     ]
    },
    {
     "data": {
      "text/html": [
       "<span style=\"background-color:rgba(135,206,250,0.1816923);\">wine</span> <span style=\"background-color:rgba(135,206,250,0.1736605);\">review</span> <span style=\"background-color:rgba(135,206,250,0.30517647);\">:</span> <span style=\"background-color:rgba(135,206,250,0.590319);\">germany</span> <span style=\"background-color:rgba(135,206,250,0.16877273);\">:</span> <span style=\"background-color:rgba(135,206,250,0.27876553);\">mosel</span> <span style=\"background-color:rgba(135,206,250,0.16209401);\">:</span> <span style=\"background-color:rgba(135,206,250,0.58786577);\">riesling</span> <span style=\"background-color:rgba(135,206,250,0.20939784);\">:</span> <span style=\"background-color:rgba(135,206,250,0.1510426);\">whiffs</span> <span style=\"background-color:rgba(135,206,250,0.10546774);\">of</span> <span style=\"background-color:rgba(135,206,250,0.09611817);\">smoke</span> <span style=\"background-color:rgba(135,206,250,0.09349318);\">and</span> <span style=\"background-color:rgba(135,206,250,0.11421955);\">slate</span> <span style=\"background-color:rgba(135,206,250,0.17214172);\">lend</span> <span style=\"background-color:rgba(135,206,250,0.049205486);\">a</span> <span style=\"background-color:rgba(135,206,250,0.054514974);\">savory</span> <span style=\"background-color:rgba(135,206,250,0.1828024);\">tone</span> <span style=\"background-color:rgba(135,206,250,0.11719346);\">to</span> <span style=\"background-color:rgba(135,206,250,0.12256295);\">pressed</span> <span style=\"background-color:rgba(135,206,250,0.21831915);\">apple</span> <span style=\"background-color:rgba(135,206,250,0.17130665);\">and</span> <span style=\"background-color:rgba(135,206,250,0.36338958);\">pineapple</span> <span style=\"background-color:rgba(135,206,250,0.40571138);\">in</span> <span style=\"background-color:rgba(135,206,250,0.88888854);\">this</span> <span style=\"background-color:rgba(135,206,250,0.23631309);\">dry</span> <span style=\"background-color:rgba(135,206,250,0.7543692);\">,</span> <span style=\"background-color:rgba(135,206,250,1.0);\">off</span> <span style=\"background-color:rgba(135,206,250,0.79362386);\">-</span> <span style=\"background-color:rgba(135,206,250,0.7194497);\">dry</span>"
      ],
      "text/plain": [
       "<IPython.core.display.HTML object>"
      ]
     },
     "metadata": {},
     "output_type": "display_data"
    },
    {
     "name": "stdout",
     "output_type": "stream",
     "text": [
      "riesling:   \t99.19%\n",
      "spätlese:   \t0.37%\n",
      "wine:   \t0.27%\n",
      "kabinett:   \t0.1%\n",
      "style:   \t0.02%\n",
      "--------\n",
      "\n"
     ]
    },
    {
     "data": {
      "text/html": [
       "<span style=\"background-color:rgba(135,206,250,0.25358224);\">wine</span> <span style=\"background-color:rgba(135,206,250,0.3560708);\">review</span> <span style=\"background-color:rgba(135,206,250,0.59542525);\">:</span> <span style=\"background-color:rgba(135,206,250,0.6292902);\">germany</span> <span style=\"background-color:rgba(135,206,250,0.24293923);\">:</span> <span style=\"background-color:rgba(135,206,250,0.20020396);\">mosel</span> <span style=\"background-color:rgba(135,206,250,0.24429643);\">:</span> <span style=\"background-color:rgba(135,206,250,0.24521548);\">riesling</span> <span style=\"background-color:rgba(135,206,250,0.32051578);\">:</span> <span style=\"background-color:rgba(135,206,250,0.33523312);\">whiffs</span> <span style=\"background-color:rgba(135,206,250,0.17826803);\">of</span> <span style=\"background-color:rgba(135,206,250,0.09739766);\">smoke</span> <span style=\"background-color:rgba(135,206,250,0.11525357);\">and</span> <span style=\"background-color:rgba(135,206,250,0.14395128);\">slate</span> <span style=\"background-color:rgba(135,206,250,0.4500614);\">lend</span> <span style=\"background-color:rgba(135,206,250,0.25086662);\">a</span> <span style=\"background-color:rgba(135,206,250,0.068375885);\">savory</span> <span style=\"background-color:rgba(135,206,250,0.23807938);\">tone</span> <span style=\"background-color:rgba(135,206,250,0.23728266);\">to</span> <span style=\"background-color:rgba(135,206,250,0.097285435);\">pressed</span> <span style=\"background-color:rgba(135,206,250,0.16686425);\">apple</span> <span style=\"background-color:rgba(135,206,250,0.34302613);\">and</span> <span style=\"background-color:rgba(135,206,250,0.22464404);\">pineapple</span> <span style=\"background-color:rgba(135,206,250,0.48345038);\">in</span> <span style=\"background-color:rgba(135,206,250,0.98267967);\">this</span> <span style=\"background-color:rgba(135,206,250,0.37477806);\">dry</span> <span style=\"background-color:rgba(135,206,250,1.0);\">,</span> <span style=\"background-color:rgba(135,206,250,0.33798316);\">off</span> <span style=\"background-color:rgba(135,206,250,0.40124077);\">-</span> <span style=\"background-color:rgba(135,206,250,0.8288345);\">dry</span> <span style=\"background-color:rgba(135,206,250,0.64558244);\">riesling</span>"
      ],
      "text/plain": [
       "<IPython.core.display.HTML object>"
      ]
     },
     "metadata": {},
     "output_type": "display_data"
    },
    {
     "name": "stdout",
     "output_type": "stream",
     "text": [
      ".:   \t99.85%\n",
      ",:   \t0.09%\n",
      "full:   \t0.04%\n",
      "that:   \t0.01%\n",
      "from:   \t0.01%\n",
      "--------\n",
      "\n"
     ]
    },
    {
     "data": {
      "text/html": [
       "<span style=\"background-color:rgba(135,206,250,0.62134415);\">wine</span> <span style=\"background-color:rgba(135,206,250,1.0);\">review</span> <span style=\"background-color:rgba(135,206,250,0.48014212);\">:</span> <span style=\"background-color:rgba(135,206,250,0.7187626);\">germany</span> <span style=\"background-color:rgba(135,206,250,0.5373745);\">:</span> <span style=\"background-color:rgba(135,206,250,0.55415666);\">mosel</span> <span style=\"background-color:rgba(135,206,250,0.47669294);\">:</span> <span style=\"background-color:rgba(135,206,250,0.7028463);\">riesling</span> <span style=\"background-color:rgba(135,206,250,0.37621766);\">:</span> <span style=\"background-color:rgba(135,206,250,0.24512531);\">whiffs</span> <span style=\"background-color:rgba(135,206,250,0.14731951);\">of</span> <span style=\"background-color:rgba(135,206,250,0.2060576);\">smoke</span> <span style=\"background-color:rgba(135,206,250,0.20319766);\">and</span> <span style=\"background-color:rgba(135,206,250,0.25780123);\">slate</span> <span style=\"background-color:rgba(135,206,250,0.24538408);\">lend</span> <span style=\"background-color:rgba(135,206,250,0.13252068);\">a</span> <span style=\"background-color:rgba(135,206,250,0.16703223);\">savory</span> <span style=\"background-color:rgba(135,206,250,0.21351035);\">tone</span> <span style=\"background-color:rgba(135,206,250,0.13269274);\">to</span> <span style=\"background-color:rgba(135,206,250,0.15194611);\">pressed</span> <span style=\"background-color:rgba(135,206,250,0.2425073);\">apple</span> <span style=\"background-color:rgba(135,206,250,0.20450602);\">and</span> <span style=\"background-color:rgba(135,206,250,0.25283208);\">pineapple</span> <span style=\"background-color:rgba(135,206,250,0.1356458);\">in</span> <span style=\"background-color:rgba(135,206,250,0.43956202);\">this</span> <span style=\"background-color:rgba(135,206,250,0.2555289);\">dry</span> <span style=\"background-color:rgba(135,206,250,0.21256505);\">,</span> <span style=\"background-color:rgba(135,206,250,0.16766113);\">off</span> <span style=\"background-color:rgba(135,206,250,0.1430591);\">-</span> <span style=\"background-color:rgba(135,206,250,0.28480318);\">dry</span> <span style=\"background-color:rgba(135,206,250,0.36010396);\">riesling</span> <span style=\"background-color:rgba(135,206,250,0.5049589);\">.</span>"
      ],
      "text/plain": [
       "<IPython.core.display.HTML object>"
      ]
     },
     "metadata": {},
     "output_type": "display_data"
    },
    {
     "name": "stdout",
     "output_type": "stream",
     "text": [
      "it:   \t91.1%\n",
      "the:   \t6.42%\n",
      "zesty:   \t0.57%\n",
      "while:   \t0.34%\n",
      "a:   \t0.27%\n",
      "--------\n",
      "\n"
     ]
    },
    {
     "data": {
      "text/html": [
       "<span style=\"background-color:rgba(135,206,250,0.051632598);\">wine</span> <span style=\"background-color:rgba(135,206,250,0.08037345);\">review</span> <span style=\"background-color:rgba(135,206,250,0.056588527);\">:</span> <span style=\"background-color:rgba(135,206,250,0.19996731);\">germany</span> <span style=\"background-color:rgba(135,206,250,0.04348482);\">:</span> <span style=\"background-color:rgba(135,206,250,0.073963895);\">mosel</span> <span style=\"background-color:rgba(135,206,250,0.035581898);\">:</span> <span style=\"background-color:rgba(135,206,250,0.07200667);\">riesling</span> <span style=\"background-color:rgba(135,206,250,0.04684605);\">:</span> <span style=\"background-color:rgba(135,206,250,0.06149228);\">whiffs</span> <span style=\"background-color:rgba(135,206,250,0.023063386);\">of</span> <span style=\"background-color:rgba(135,206,250,0.046228584);\">smoke</span> <span style=\"background-color:rgba(135,206,250,0.019854613);\">and</span> <span style=\"background-color:rgba(135,206,250,0.048826117);\">slate</span> <span style=\"background-color:rgba(135,206,250,0.045070842);\">lend</span> <span style=\"background-color:rgba(135,206,250,0.019249039);\">a</span> <span style=\"background-color:rgba(135,206,250,0.02748065);\">savory</span> <span style=\"background-color:rgba(135,206,250,0.058464907);\">tone</span> <span style=\"background-color:rgba(135,206,250,0.022324612);\">to</span> <span style=\"background-color:rgba(135,206,250,0.033787828);\">pressed</span> <span style=\"background-color:rgba(135,206,250,0.04404328);\">apple</span> <span style=\"background-color:rgba(135,206,250,0.025938988);\">and</span> <span style=\"background-color:rgba(135,206,250,0.04690062);\">pineapple</span> <span style=\"background-color:rgba(135,206,250,0.032625623);\">in</span> <span style=\"background-color:rgba(135,206,250,0.037136875);\">this</span> <span style=\"background-color:rgba(135,206,250,0.06957366);\">dry</span> <span style=\"background-color:rgba(135,206,250,0.07601769);\">,</span> <span style=\"background-color:rgba(135,206,250,0.06542064);\">off</span> <span style=\"background-color:rgba(135,206,250,0.07478383);\">-</span> <span style=\"background-color:rgba(135,206,250,0.17159525);\">dry</span> <span style=\"background-color:rgba(135,206,250,0.16121158);\">riesling</span> <span style=\"background-color:rgba(135,206,250,1.0);\">.</span> <span style=\"background-color:rgba(135,206,250,0.22999917);\">it</span>"
      ],
      "text/plain": [
       "<IPython.core.display.HTML object>"
      ]
     },
     "metadata": {},
     "output_type": "display_data"
    },
    {
     "name": "stdout",
     "output_type": "stream",
     "text": [
      "':   \t100.0%\n",
      "has:   \t0.0%\n",
      "is:   \t0.0%\n",
      "finishes:   \t0.0%\n",
      "drinks:   \t0.0%\n",
      "--------\n",
      "\n"
     ]
    },
    {
     "data": {
      "text/html": [
       "<span style=\"background-color:rgba(135,206,250,0.09372404);\">wine</span> <span style=\"background-color:rgba(135,206,250,0.089807);\">review</span> <span style=\"background-color:rgba(135,206,250,0.10005664);\">:</span> <span style=\"background-color:rgba(135,206,250,0.12624072);\">germany</span> <span style=\"background-color:rgba(135,206,250,0.08441632);\">:</span> <span style=\"background-color:rgba(135,206,250,0.11936565);\">mosel</span> <span style=\"background-color:rgba(135,206,250,0.06533251);\">:</span> <span style=\"background-color:rgba(135,206,250,0.15693228);\">riesling</span> <span style=\"background-color:rgba(135,206,250,0.07583578);\">:</span> <span style=\"background-color:rgba(135,206,250,0.060746737);\">whiffs</span> <span style=\"background-color:rgba(135,206,250,0.03974007);\">of</span> <span style=\"background-color:rgba(135,206,250,0.033563323);\">smoke</span> <span style=\"background-color:rgba(135,206,250,0.033086248);\">and</span> <span style=\"background-color:rgba(135,206,250,0.044690344);\">slate</span> <span style=\"background-color:rgba(135,206,250,0.0332819);\">lend</span> <span style=\"background-color:rgba(135,206,250,0.028411293);\">a</span> <span style=\"background-color:rgba(135,206,250,0.034050237);\">savory</span> <span style=\"background-color:rgba(135,206,250,0.044610105);\">tone</span> <span style=\"background-color:rgba(135,206,250,0.029383508);\">to</span> <span style=\"background-color:rgba(135,206,250,0.050969232);\">pressed</span> <span style=\"background-color:rgba(135,206,250,0.04634887);\">apple</span> <span style=\"background-color:rgba(135,206,250,0.04605002);\">and</span> <span style=\"background-color:rgba(135,206,250,0.061246604);\">pineapple</span> <span style=\"background-color:rgba(135,206,250,0.033827797);\">in</span> <span style=\"background-color:rgba(135,206,250,0.059098702);\">this</span> <span style=\"background-color:rgba(135,206,250,0.06795973);\">dry</span> <span style=\"background-color:rgba(135,206,250,0.076865315);\">,</span> <span style=\"background-color:rgba(135,206,250,0.10453435);\">off</span> <span style=\"background-color:rgba(135,206,250,0.06099269);\">-</span> <span style=\"background-color:rgba(135,206,250,0.14178932);\">dry</span> <span style=\"background-color:rgba(135,206,250,0.2720631);\">riesling</span> <span style=\"background-color:rgba(135,206,250,0.73389);\">.</span> <span style=\"background-color:rgba(135,206,250,1.0);\">it</span> <span style=\"background-color:rgba(135,206,250,0.14336601);\">'</span>"
      ],
      "text/plain": [
       "<IPython.core.display.HTML object>"
      ]
     },
     "metadata": {},
     "output_type": "display_data"
    },
    {
     "name": "stdout",
     "output_type": "stream",
     "text": [
      "s:   \t100.0%\n",
      "ll:   \t0.0%\n",
      "t:   \t0.0%\n",
      "kabinett:   \t0.0%\n",
      "[UNK]:   \t0.0%\n",
      "--------\n",
      "\n"
     ]
    },
    {
     "data": {
      "text/html": [
       "<span style=\"background-color:rgba(135,206,250,0.08182799);\">wine</span> <span style=\"background-color:rgba(135,206,250,0.10984549);\">review</span> <span style=\"background-color:rgba(135,206,250,0.0699356);\">:</span> <span style=\"background-color:rgba(135,206,250,0.24207646);\">germany</span> <span style=\"background-color:rgba(135,206,250,0.05493479);\">:</span> <span style=\"background-color:rgba(135,206,250,0.13861798);\">mosel</span> <span style=\"background-color:rgba(135,206,250,0.04999865);\">:</span> <span style=\"background-color:rgba(135,206,250,0.18315792);\">riesling</span> <span style=\"background-color:rgba(135,206,250,0.07347037);\">:</span> <span style=\"background-color:rgba(135,206,250,0.07855091);\">whiffs</span> <span style=\"background-color:rgba(135,206,250,0.026093122);\">of</span> <span style=\"background-color:rgba(135,206,250,0.055384867);\">smoke</span> <span style=\"background-color:rgba(135,206,250,0.028314093);\">and</span> <span style=\"background-color:rgba(135,206,250,0.061657522);\">slate</span> <span style=\"background-color:rgba(135,206,250,0.03516799);\">lend</span> <span style=\"background-color:rgba(135,206,250,0.024279904);\">a</span> <span style=\"background-color:rgba(135,206,250,0.060098622);\">savory</span> <span style=\"background-color:rgba(135,206,250,0.07363429);\">tone</span> <span style=\"background-color:rgba(135,206,250,0.025782155);\">to</span> <span style=\"background-color:rgba(135,206,250,0.061346173);\">pressed</span> <span style=\"background-color:rgba(135,206,250,0.06553564);\">apple</span> <span style=\"background-color:rgba(135,206,250,0.040257372);\">and</span> <span style=\"background-color:rgba(135,206,250,0.0738157);\">pineapple</span> <span style=\"background-color:rgba(135,206,250,0.029035086);\">in</span> <span style=\"background-color:rgba(135,206,250,0.06605158);\">this</span> <span style=\"background-color:rgba(135,206,250,0.11890602);\">dry</span> <span style=\"background-color:rgba(135,206,250,0.09682837);\">,</span> <span style=\"background-color:rgba(135,206,250,0.079397194);\">off</span> <span style=\"background-color:rgba(135,206,250,0.05459629);\">-</span> <span style=\"background-color:rgba(135,206,250,0.20239748);\">dry</span> <span style=\"background-color:rgba(135,206,250,0.24018501);\">riesling</span> <span style=\"background-color:rgba(135,206,250,1.0);\">.</span> <span style=\"background-color:rgba(135,206,250,0.7789812);\">it</span> <span style=\"background-color:rgba(135,206,250,0.121887006);\">'</span> <span style=\"background-color:rgba(135,206,250,0.21317953);\">s</span>"
      ],
      "text/plain": [
       "<IPython.core.display.HTML object>"
      ]
     },
     "metadata": {},
     "output_type": "display_data"
    },
    {
     "name": "stdout",
     "output_type": "stream",
     "text": [
      "a:   \t71.95%\n",
      "refreshingly:   \t8.91%\n",
      "medium:   \t4.76%\n",
      "crisp:   \t1.36%\n",
      "rich:   \t1.28%\n",
      "--------\n",
      "\n"
     ]
    },
    {
     "data": {
      "text/html": [
       "<span style=\"background-color:rgba(135,206,250,0.047911298);\">wine</span> <span style=\"background-color:rgba(135,206,250,0.062946156);\">review</span> <span style=\"background-color:rgba(135,206,250,0.06580893);\">:</span> <span style=\"background-color:rgba(135,206,250,0.19367732);\">germany</span> <span style=\"background-color:rgba(135,206,250,0.039631266);\">:</span> <span style=\"background-color:rgba(135,206,250,0.100682855);\">mosel</span> <span style=\"background-color:rgba(135,206,250,0.05617705);\">:</span> <span style=\"background-color:rgba(135,206,250,0.272803);\">riesling</span> <span style=\"background-color:rgba(135,206,250,0.06492413);\">:</span> <span style=\"background-color:rgba(135,206,250,0.056974225);\">whiffs</span> <span style=\"background-color:rgba(135,206,250,0.022018125);\">of</span> <span style=\"background-color:rgba(135,206,250,0.04586267);\">smoke</span> <span style=\"background-color:rgba(135,206,250,0.026732307);\">and</span> <span style=\"background-color:rgba(135,206,250,0.055691503);\">slate</span> <span style=\"background-color:rgba(135,206,250,0.024997775);\">lend</span> <span style=\"background-color:rgba(135,206,250,0.016250206);\">a</span> <span style=\"background-color:rgba(135,206,250,0.027203636);\">savory</span> <span style=\"background-color:rgba(135,206,250,0.054131463);\">tone</span> <span style=\"background-color:rgba(135,206,250,0.02206918);\">to</span> <span style=\"background-color:rgba(135,206,250,0.03529003);\">pressed</span> <span style=\"background-color:rgba(135,206,250,0.079156056);\">apple</span> <span style=\"background-color:rgba(135,206,250,0.03449046);\">and</span> <span style=\"background-color:rgba(135,206,250,0.09906623);\">pineapple</span> <span style=\"background-color:rgba(135,206,250,0.02362165);\">in</span> <span style=\"background-color:rgba(135,206,250,0.06277907);\">this</span> <span style=\"background-color:rgba(135,206,250,0.06708764);\">dry</span> <span style=\"background-color:rgba(135,206,250,0.046939325);\">,</span> <span style=\"background-color:rgba(135,206,250,0.05920086);\">off</span> <span style=\"background-color:rgba(135,206,250,0.03800957);\">-</span> <span style=\"background-color:rgba(135,206,250,0.110754535);\">dry</span> <span style=\"background-color:rgba(135,206,250,0.23650055);\">riesling</span> <span style=\"background-color:rgba(135,206,250,0.5634407);\">.</span> <span style=\"background-color:rgba(135,206,250,0.49409524);\">it</span> <span style=\"background-color:rgba(135,206,250,0.13866529);\">'</span> <span style=\"background-color:rgba(135,206,250,1.0);\">s</span> <span style=\"background-color:rgba(135,206,250,0.23028202);\">juicy</span>"
      ],
      "text/plain": [
       "<IPython.core.display.HTML object>"
      ]
     },
     "metadata": {},
     "output_type": "display_data"
    },
    {
     "name": "stdout",
     "output_type": "stream",
     "text": [
      "and:   \t37.04%\n",
      "in:   \t29.9%\n",
      ",:   \t17.01%\n",
      "on:   \t11.82%\n",
      "with:   \t3.97%\n",
      "--------\n",
      "\n"
     ]
    },
    {
     "data": {
      "text/html": [
       "<span style=\"background-color:rgba(135,206,250,0.055407412);\">wine</span> <span style=\"background-color:rgba(135,206,250,0.057912085);\">review</span> <span style=\"background-color:rgba(135,206,250,0.09458705);\">:</span> <span style=\"background-color:rgba(135,206,250,0.17747259);\">germany</span> <span style=\"background-color:rgba(135,206,250,0.05661853);\">:</span> <span style=\"background-color:rgba(135,206,250,0.10369138);\">mosel</span> <span style=\"background-color:rgba(135,206,250,0.058079213);\">:</span> <span style=\"background-color:rgba(135,206,250,0.1451788);\">riesling</span> <span style=\"background-color:rgba(135,206,250,0.063002676);\">:</span> <span style=\"background-color:rgba(135,206,250,0.061252397);\">whiffs</span> <span style=\"background-color:rgba(135,206,250,0.021441257);\">of</span> <span style=\"background-color:rgba(135,206,250,0.03992879);\">smoke</span> <span style=\"background-color:rgba(135,206,250,0.023177246);\">and</span> <span style=\"background-color:rgba(135,206,250,0.05779126);\">slate</span> <span style=\"background-color:rgba(135,206,250,0.03827269);\">lend</span> <span style=\"background-color:rgba(135,206,250,0.019458236);\">a</span> <span style=\"background-color:rgba(135,206,250,0.024689829);\">savory</span> <span style=\"background-color:rgba(135,206,250,0.04910024);\">tone</span> <span style=\"background-color:rgba(135,206,250,0.018515736);\">to</span> <span style=\"background-color:rgba(135,206,250,0.025974607);\">pressed</span> <span style=\"background-color:rgba(135,206,250,0.04210351);\">apple</span> <span style=\"background-color:rgba(135,206,250,0.027558783);\">and</span> <span style=\"background-color:rgba(135,206,250,0.04798185);\">pineapple</span> <span style=\"background-color:rgba(135,206,250,0.014944418);\">in</span> <span style=\"background-color:rgba(135,206,250,0.069110975);\">this</span> <span style=\"background-color:rgba(135,206,250,0.058746856);\">dry</span> <span style=\"background-color:rgba(135,206,250,0.04699505);\">,</span> <span style=\"background-color:rgba(135,206,250,0.03853689);\">off</span> <span style=\"background-color:rgba(135,206,250,0.040468056);\">-</span> <span style=\"background-color:rgba(135,206,250,0.11637436);\">dry</span> <span style=\"background-color:rgba(135,206,250,0.10955123);\">riesling</span> <span style=\"background-color:rgba(135,206,250,0.39698294);\">.</span> <span style=\"background-color:rgba(135,206,250,0.21394747);\">it</span> <span style=\"background-color:rgba(135,206,250,0.06774245);\">'</span> <span style=\"background-color:rgba(135,206,250,0.27161536);\">s</span> <span style=\"background-color:rgba(135,206,250,1.0);\">juicy</span> <span style=\"background-color:rgba(135,206,250,0.11752101);\">in</span>"
      ],
      "text/plain": [
       "<IPython.core.display.HTML object>"
      ]
     },
     "metadata": {},
     "output_type": "display_data"
    },
    {
     "name": "stdout",
     "output_type": "stream",
     "text": [
      "acidity:   \t71.09%\n",
      "tangerine:   \t5.54%\n",
      "grapefruit:   \t4.14%\n",
      "fruit:   \t3.96%\n",
      "peach:   \t3.51%\n",
      "--------\n",
      "\n"
     ]
    },
    {
     "data": {
      "text/html": [
       "<span style=\"background-color:rgba(135,206,250,0.083324715);\">wine</span> <span style=\"background-color:rgba(135,206,250,0.10772424);\">review</span> <span style=\"background-color:rgba(135,206,250,0.16576502);\">:</span> <span style=\"background-color:rgba(135,206,250,0.38186806);\">germany</span> <span style=\"background-color:rgba(135,206,250,0.08797697);\">:</span> <span style=\"background-color:rgba(135,206,250,0.07587798);\">mosel</span> <span style=\"background-color:rgba(135,206,250,0.07577469);\">:</span> <span style=\"background-color:rgba(135,206,250,0.101181686);\">riesling</span> <span style=\"background-color:rgba(135,206,250,0.082100324);\">:</span> <span style=\"background-color:rgba(135,206,250,0.09461203);\">whiffs</span> <span style=\"background-color:rgba(135,206,250,0.048042737);\">of</span> <span style=\"background-color:rgba(135,206,250,0.041316394);\">smoke</span> <span style=\"background-color:rgba(135,206,250,0.033158123);\">and</span> <span style=\"background-color:rgba(135,206,250,0.06625002);\">slate</span> <span style=\"background-color:rgba(135,206,250,0.10613492);\">lend</span> <span style=\"background-color:rgba(135,206,250,0.037976682);\">a</span> <span style=\"background-color:rgba(135,206,250,0.023663621);\">savory</span> <span style=\"background-color:rgba(135,206,250,0.05809828);\">tone</span> <span style=\"background-color:rgba(135,206,250,0.041149493);\">to</span> <span style=\"background-color:rgba(135,206,250,0.029638132);\">pressed</span> <span style=\"background-color:rgba(135,206,250,0.04875079);\">apple</span> <span style=\"background-color:rgba(135,206,250,0.041517273);\">and</span> <span style=\"background-color:rgba(135,206,250,0.062846);\">pineapple</span> <span style=\"background-color:rgba(135,206,250,0.07473285);\">in</span> <span style=\"background-color:rgba(135,206,250,0.08947306);\">this</span> <span style=\"background-color:rgba(135,206,250,0.076154366);\">dry</span> <span style=\"background-color:rgba(135,206,250,0.07875422);\">,</span> <span style=\"background-color:rgba(135,206,250,0.08387681);\">off</span> <span style=\"background-color:rgba(135,206,250,0.04773844);\">-</span> <span style=\"background-color:rgba(135,206,250,0.13949707);\">dry</span> <span style=\"background-color:rgba(135,206,250,0.15275815);\">riesling</span> <span style=\"background-color:rgba(135,206,250,0.6896485);\">.</span> <span style=\"background-color:rgba(135,206,250,0.4711077);\">it</span> <span style=\"background-color:rgba(135,206,250,0.14035666);\">'</span> <span style=\"background-color:rgba(135,206,250,0.761675);\">s</span> <span style=\"background-color:rgba(135,206,250,0.587953);\">juicy</span> <span style=\"background-color:rgba(135,206,250,1.0);\">in</span> <span style=\"background-color:rgba(135,206,250,0.4342587);\">tangerine</span>"
      ],
      "text/plain": [
       "<IPython.core.display.HTML object>"
      ]
     },
     "metadata": {},
     "output_type": "display_data"
    },
    {
     "name": "stdout",
     "output_type": "stream",
     "text": [
      "and:   \t87.17%\n",
      ",:   \t10.56%\n",
      "acidity:   \t1.64%\n",
      "in:   \t0.36%\n",
      "-:   \t0.13%\n",
      "--------\n",
      "\n"
     ]
    },
    {
     "data": {
      "text/html": [
       "<span style=\"background-color:rgba(135,206,250,0.04456357);\">wine</span> <span style=\"background-color:rgba(135,206,250,0.06434901);\">review</span> <span style=\"background-color:rgba(135,206,250,0.058383245);\">:</span> <span style=\"background-color:rgba(135,206,250,0.20390597);\">germany</span> <span style=\"background-color:rgba(135,206,250,0.042478453);\">:</span> <span style=\"background-color:rgba(135,206,250,0.11216396);\">mosel</span> <span style=\"background-color:rgba(135,206,250,0.039792918);\">:</span> <span style=\"background-color:rgba(135,206,250,0.18533018);\">riesling</span> <span style=\"background-color:rgba(135,206,250,0.060701545);\">:</span> <span style=\"background-color:rgba(135,206,250,0.059914608);\">whiffs</span> <span style=\"background-color:rgba(135,206,250,0.019511132);\">of</span> <span style=\"background-color:rgba(135,206,250,0.042414106);\">smoke</span> <span style=\"background-color:rgba(135,206,250,0.020597294);\">and</span> <span style=\"background-color:rgba(135,206,250,0.04976556);\">slate</span> <span style=\"background-color:rgba(135,206,250,0.032638535);\">lend</span> <span style=\"background-color:rgba(135,206,250,0.018137015);\">a</span> <span style=\"background-color:rgba(135,206,250,0.03881768);\">savory</span> <span style=\"background-color:rgba(135,206,250,0.04696198);\">tone</span> <span style=\"background-color:rgba(135,206,250,0.01781275);\">to</span> <span style=\"background-color:rgba(135,206,250,0.041445922);\">pressed</span> <span style=\"background-color:rgba(135,206,250,0.052051246);\">apple</span> <span style=\"background-color:rgba(135,206,250,0.023749605);\">and</span> <span style=\"background-color:rgba(135,206,250,0.057943754);\">pineapple</span> <span style=\"background-color:rgba(135,206,250,0.021242697);\">in</span> <span style=\"background-color:rgba(135,206,250,0.044564728);\">this</span> <span style=\"background-color:rgba(135,206,250,0.06601254);\">dry</span> <span style=\"background-color:rgba(135,206,250,0.03234194);\">,</span> <span style=\"background-color:rgba(135,206,250,0.038134657);\">off</span> <span style=\"background-color:rgba(135,206,250,0.025996007);\">-</span> <span style=\"background-color:rgba(135,206,250,0.08859151);\">dry</span> <span style=\"background-color:rgba(135,206,250,0.10537329);\">riesling</span> <span style=\"background-color:rgba(135,206,250,0.1984718);\">.</span> <span style=\"background-color:rgba(135,206,250,0.10887633);\">it</span> <span style=\"background-color:rgba(135,206,250,0.03872977);\">'</span> <span style=\"background-color:rgba(135,206,250,0.2635374);\">s</span> <span style=\"background-color:rgba(135,206,250,0.34087563);\">juicy</span> <span style=\"background-color:rgba(135,206,250,0.38700527);\">in</span> <span style=\"background-color:rgba(135,206,250,1.0);\">tangerine</span> <span style=\"background-color:rgba(135,206,250,0.29104295);\">and</span>"
      ],
      "text/plain": [
       "<IPython.core.display.HTML object>"
      ]
     },
     "metadata": {},
     "output_type": "display_data"
    },
    {
     "name": "stdout",
     "output_type": "stream",
     "text": [
      "lime:   \t51.37%\n",
      "grapefruit:   \t18.07%\n",
      "peach:   \t11.4%\n",
      "tangerine:   \t9.42%\n",
      "lemon:   \t5.37%\n",
      "--------\n",
      "\n"
     ]
    },
    {
     "data": {
      "text/html": [
       "<span style=\"background-color:rgba(135,206,250,0.0733158);\">wine</span> <span style=\"background-color:rgba(135,206,250,0.099716485);\">review</span> <span style=\"background-color:rgba(135,206,250,0.14799413);\">:</span> <span style=\"background-color:rgba(135,206,250,0.40106338);\">germany</span> <span style=\"background-color:rgba(135,206,250,0.0868225);\">:</span> <span style=\"background-color:rgba(135,206,250,0.09236635);\">mosel</span> <span style=\"background-color:rgba(135,206,250,0.07906743);\">:</span> <span style=\"background-color:rgba(135,206,250,0.12003671);\">riesling</span> <span style=\"background-color:rgba(135,206,250,0.09508977);\">:</span> <span style=\"background-color:rgba(135,206,250,0.08306298);\">whiffs</span> <span style=\"background-color:rgba(135,206,250,0.03915665);\">of</span> <span style=\"background-color:rgba(135,206,250,0.04082421);\">smoke</span> <span style=\"background-color:rgba(135,206,250,0.030130614);\">and</span> <span style=\"background-color:rgba(135,206,250,0.07179925);\">slate</span> <span style=\"background-color:rgba(135,206,250,0.071013816);\">lend</span> <span style=\"background-color:rgba(135,206,250,0.030634891);\">a</span> <span style=\"background-color:rgba(135,206,250,0.03010619);\">savory</span> <span style=\"background-color:rgba(135,206,250,0.052971866);\">tone</span> <span style=\"background-color:rgba(135,206,250,0.039444614);\">to</span> <span style=\"background-color:rgba(135,206,250,0.031191407);\">pressed</span> <span style=\"background-color:rgba(135,206,250,0.045413893);\">apple</span> <span style=\"background-color:rgba(135,206,250,0.036634643);\">and</span> <span style=\"background-color:rgba(135,206,250,0.052387755);\">pineapple</span> <span style=\"background-color:rgba(135,206,250,0.05014074);\">in</span> <span style=\"background-color:rgba(135,206,250,0.0751817);\">this</span> <span style=\"background-color:rgba(135,206,250,0.08411859);\">dry</span> <span style=\"background-color:rgba(135,206,250,0.06770884);\">,</span> <span style=\"background-color:rgba(135,206,250,0.056254055);\">off</span> <span style=\"background-color:rgba(135,206,250,0.04067089);\">-</span> <span style=\"background-color:rgba(135,206,250,0.13149433);\">dry</span> <span style=\"background-color:rgba(135,206,250,0.12635033);\">riesling</span> <span style=\"background-color:rgba(135,206,250,0.5621433);\">.</span> <span style=\"background-color:rgba(135,206,250,0.3381462);\">it</span> <span style=\"background-color:rgba(135,206,250,0.11017514);\">'</span> <span style=\"background-color:rgba(135,206,250,0.42872795);\">s</span> <span style=\"background-color:rgba(135,206,250,0.3747785);\">juicy</span> <span style=\"background-color:rgba(135,206,250,0.63063794);\">in</span> <span style=\"background-color:rgba(135,206,250,0.27522883);\">tangerine</span> <span style=\"background-color:rgba(135,206,250,1.0);\">and</span> <span style=\"background-color:rgba(135,206,250,0.39818823);\">lime</span>"
      ],
      "text/plain": [
       "<IPython.core.display.HTML object>"
      ]
     },
     "metadata": {},
     "output_type": "display_data"
    },
    {
     "name": "stdout",
     "output_type": "stream",
     "text": [
      "acidity:   \t36.56%\n",
      "flavors:   \t23.54%\n",
      "in:   \t17.49%\n",
      "on:   \t11.74%\n",
      "-:   \t6.93%\n",
      "--------\n",
      "\n"
     ]
    },
    {
     "data": {
      "text/html": [
       "<span style=\"background-color:rgba(135,206,250,0.048573952);\">wine</span> <span style=\"background-color:rgba(135,206,250,0.05642481);\">review</span> <span style=\"background-color:rgba(135,206,250,0.11877732);\">:</span> <span style=\"background-color:rgba(135,206,250,0.28259888);\">germany</span> <span style=\"background-color:rgba(135,206,250,0.060657583);\">:</span> <span style=\"background-color:rgba(135,206,250,0.050365034);\">mosel</span> <span style=\"background-color:rgba(135,206,250,0.052085128);\">:</span> <span style=\"background-color:rgba(135,206,250,0.08634841);\">riesling</span> <span style=\"background-color:rgba(135,206,250,0.060782533);\">:</span> <span style=\"background-color:rgba(135,206,250,0.03792342);\">whiffs</span> <span style=\"background-color:rgba(135,206,250,0.020192053);\">of</span> <span style=\"background-color:rgba(135,206,250,0.020349693);\">smoke</span> <span style=\"background-color:rgba(135,206,250,0.022521466);\">and</span> <span style=\"background-color:rgba(135,206,250,0.037307896);\">slate</span> <span style=\"background-color:rgba(135,206,250,0.07446642);\">lend</span> <span style=\"background-color:rgba(135,206,250,0.016466083);\">a</span> <span style=\"background-color:rgba(135,206,250,0.0102999825);\">savory</span> <span style=\"background-color:rgba(135,206,250,0.027377216);\">tone</span> <span style=\"background-color:rgba(135,206,250,0.022030557);\">to</span> <span style=\"background-color:rgba(135,206,250,0.01859675);\">pressed</span> <span style=\"background-color:rgba(135,206,250,0.04463738);\">apple</span> <span style=\"background-color:rgba(135,206,250,0.030590782);\">and</span> <span style=\"background-color:rgba(135,206,250,0.046282828);\">pineapple</span> <span style=\"background-color:rgba(135,206,250,0.049468406);\">in</span> <span style=\"background-color:rgba(135,206,250,0.078317024);\">this</span> <span style=\"background-color:rgba(135,206,250,0.04255139);\">dry</span> <span style=\"background-color:rgba(135,206,250,0.06109847);\">,</span> <span style=\"background-color:rgba(135,206,250,0.05391465);\">off</span> <span style=\"background-color:rgba(135,206,250,0.033522405);\">-</span> <span style=\"background-color:rgba(135,206,250,0.06961851);\">dry</span> <span style=\"background-color:rgba(135,206,250,0.12956817);\">riesling</span> <span style=\"background-color:rgba(135,206,250,0.59523284);\">.</span> <span style=\"background-color:rgba(135,206,250,0.28693616);\">it</span> <span style=\"background-color:rgba(135,206,250,0.093114376);\">'</span> <span style=\"background-color:rgba(135,206,250,0.33382383);\">s</span> <span style=\"background-color:rgba(135,206,250,0.21288684);\">juicy</span> <span style=\"background-color:rgba(135,206,250,0.45634723);\">in</span> <span style=\"background-color:rgba(135,206,250,0.29316756);\">tangerine</span> <span style=\"background-color:rgba(135,206,250,1.0);\">and</span> <span style=\"background-color:rgba(135,206,250,0.5830211);\">lime</span> <span style=\"background-color:rgba(135,206,250,0.5685622);\">acidity</span>"
      ],
      "text/plain": [
       "<IPython.core.display.HTML object>"
      ]
     },
     "metadata": {},
     "output_type": "display_data"
    },
    {
     "name": "stdout",
     "output_type": "stream",
     "text": [
      ",:   \t93.1%\n",
      ".:   \t4.5%\n",
      "that:   \t1.22%\n",
      "on:   \t0.73%\n",
      "and:   \t0.31%\n",
      "--------\n",
      "\n"
     ]
    },
    {
     "data": {
      "text/html": [
       "<span style=\"background-color:rgba(135,206,250,0.036086712);\">wine</span> <span style=\"background-color:rgba(135,206,250,0.064879574);\">review</span> <span style=\"background-color:rgba(135,206,250,0.069390975);\">:</span> <span style=\"background-color:rgba(135,206,250,0.23289533);\">germany</span> <span style=\"background-color:rgba(135,206,250,0.034156304);\">:</span> <span style=\"background-color:rgba(135,206,250,0.0853734);\">mosel</span> <span style=\"background-color:rgba(135,206,250,0.041739162);\">:</span> <span style=\"background-color:rgba(135,206,250,0.1730299);\">riesling</span> <span style=\"background-color:rgba(135,206,250,0.06549416);\">:</span> <span style=\"background-color:rgba(135,206,250,0.05310439);\">whiffs</span> <span style=\"background-color:rgba(135,206,250,0.024468267);\">of</span> <span style=\"background-color:rgba(135,206,250,0.033678632);\">smoke</span> <span style=\"background-color:rgba(135,206,250,0.025128093);\">and</span> <span style=\"background-color:rgba(135,206,250,0.038595818);\">slate</span> <span style=\"background-color:rgba(135,206,250,0.049983013);\">lend</span> <span style=\"background-color:rgba(135,206,250,0.014006128);\">a</span> <span style=\"background-color:rgba(135,206,250,0.023277236);\">savory</span> <span style=\"background-color:rgba(135,206,250,0.043130595);\">tone</span> <span style=\"background-color:rgba(135,206,250,0.022313824);\">to</span> <span style=\"background-color:rgba(135,206,250,0.028079743);\">pressed</span> <span style=\"background-color:rgba(135,206,250,0.044148687);\">apple</span> <span style=\"background-color:rgba(135,206,250,0.028425107);\">and</span> <span style=\"background-color:rgba(135,206,250,0.05046393);\">pineapple</span> <span style=\"background-color:rgba(135,206,250,0.03170333);\">in</span> <span style=\"background-color:rgba(135,206,250,0.07496009);\">this</span> <span style=\"background-color:rgba(135,206,250,0.05549733);\">dry</span> <span style=\"background-color:rgba(135,206,250,0.030531306);\">,</span> <span style=\"background-color:rgba(135,206,250,0.041256532);\">off</span> <span style=\"background-color:rgba(135,206,250,0.019150913);\">-</span> <span style=\"background-color:rgba(135,206,250,0.07722629);\">dry</span> <span style=\"background-color:rgba(135,206,250,0.10051862);\">riesling</span> <span style=\"background-color:rgba(135,206,250,0.22011116);\">.</span> <span style=\"background-color:rgba(135,206,250,0.15680178);\">it</span> <span style=\"background-color:rgba(135,206,250,0.026580455);\">'</span> <span style=\"background-color:rgba(135,206,250,0.1686189);\">s</span> <span style=\"background-color:rgba(135,206,250,0.15382962);\">juicy</span> <span style=\"background-color:rgba(135,206,250,0.12254722);\">in</span> <span style=\"background-color:rgba(135,206,250,0.2871469);\">tangerine</span> <span style=\"background-color:rgba(135,206,250,0.4628208);\">and</span> <span style=\"background-color:rgba(135,206,250,0.8871114);\">lime</span> <span style=\"background-color:rgba(135,206,250,1.0);\">acidity</span> <span style=\"background-color:rgba(135,206,250,0.3204998);\">,</span>"
      ],
      "text/plain": [
       "<IPython.core.display.HTML object>"
      ]
     },
     "metadata": {},
     "output_type": "display_data"
    },
    {
     "name": "stdout",
     "output_type": "stream",
     "text": [
      "with:   \t83.5%\n",
      "but:   \t4.73%\n",
      "finishing:   \t4.59%\n",
      "and:   \t3.87%\n",
      "yet:   \t1.68%\n",
      "--------\n",
      "\n"
     ]
    },
    {
     "data": {
      "text/html": [
       "<span style=\"background-color:rgba(135,206,250,0.077831015);\">wine</span> <span style=\"background-color:rgba(135,206,250,0.14921078);\">review</span> <span style=\"background-color:rgba(135,206,250,0.09705198);\">:</span> <span style=\"background-color:rgba(135,206,250,0.30648905);\">germany</span> <span style=\"background-color:rgba(135,206,250,0.11968262);\">:</span> <span style=\"background-color:rgba(135,206,250,0.20170324);\">mosel</span> <span style=\"background-color:rgba(135,206,250,0.09356336);\">:</span> <span style=\"background-color:rgba(135,206,250,0.12134978);\">riesling</span> <span style=\"background-color:rgba(135,206,250,0.10666223);\">:</span> <span style=\"background-color:rgba(135,206,250,0.08131248);\">whiffs</span> <span style=\"background-color:rgba(135,206,250,0.034975905);\">of</span> <span style=\"background-color:rgba(135,206,250,0.061832797);\">smoke</span> <span style=\"background-color:rgba(135,206,250,0.047473866);\">and</span> <span style=\"background-color:rgba(135,206,250,0.112366594);\">slate</span> <span style=\"background-color:rgba(135,206,250,0.034064595);\">lend</span> <span style=\"background-color:rgba(135,206,250,0.048504688);\">a</span> <span style=\"background-color:rgba(135,206,250,0.09016626);\">savory</span> <span style=\"background-color:rgba(135,206,250,0.071443595);\">tone</span> <span style=\"background-color:rgba(135,206,250,0.035207488);\">to</span> <span style=\"background-color:rgba(135,206,250,0.053336363);\">pressed</span> <span style=\"background-color:rgba(135,206,250,0.045329433);\">apple</span> <span style=\"background-color:rgba(135,206,250,0.043833733);\">and</span> <span style=\"background-color:rgba(135,206,250,0.04204723);\">pineapple</span> <span style=\"background-color:rgba(135,206,250,0.019799108);\">in</span> <span style=\"background-color:rgba(135,206,250,0.04526353);\">this</span> <span style=\"background-color:rgba(135,206,250,0.09047398);\">dry</span> <span style=\"background-color:rgba(135,206,250,0.047637112);\">,</span> <span style=\"background-color:rgba(135,206,250,0.035211068);\">off</span> <span style=\"background-color:rgba(135,206,250,0.029331058);\">-</span> <span style=\"background-color:rgba(135,206,250,0.10319295);\">dry</span> <span style=\"background-color:rgba(135,206,250,0.07588585);\">riesling</span> <span style=\"background-color:rgba(135,206,250,0.16956738);\">.</span> <span style=\"background-color:rgba(135,206,250,0.08367337);\">it</span> <span style=\"background-color:rgba(135,206,250,0.061713427);\">'</span> <span style=\"background-color:rgba(135,206,250,0.12753499);\">s</span> <span style=\"background-color:rgba(135,206,250,0.15254962);\">juicy</span> <span style=\"background-color:rgba(135,206,250,0.118050456);\">in</span> <span style=\"background-color:rgba(135,206,250,0.1495804);\">tangerine</span> <span style=\"background-color:rgba(135,206,250,0.22303112);\">and</span> <span style=\"background-color:rgba(135,206,250,0.31935802);\">lime</span> <span style=\"background-color:rgba(135,206,250,1.0);\">acidity</span> <span style=\"background-color:rgba(135,206,250,0.9347436);\">,</span> <span style=\"background-color:rgba(135,206,250,0.75105596);\">finishing</span>"
      ],
      "text/plain": [
       "<IPython.core.display.HTML object>"
      ]
     },
     "metadata": {},
     "output_type": "display_data"
    },
    {
     "name": "stdout",
     "output_type": "stream",
     "text": [
      "on:   \t45.1%\n",
      "with:   \t30.32%\n",
      "long:   \t6.54%\n",
      "brisk:   \t5.77%\n",
      "a:   \t3.32%\n",
      "--------\n",
      "\n"
     ]
    },
    {
     "data": {
      "text/html": [
       "<span style=\"background-color:rgba(135,206,250,0.032892272);\">wine</span> <span style=\"background-color:rgba(135,206,250,0.050465528);\">review</span> <span style=\"background-color:rgba(135,206,250,0.039684452);\">:</span> <span style=\"background-color:rgba(135,206,250,0.19273177);\">germany</span> <span style=\"background-color:rgba(135,206,250,0.03226449);\">:</span> <span style=\"background-color:rgba(135,206,250,0.10516851);\">mosel</span> <span style=\"background-color:rgba(135,206,250,0.034447826);\">:</span> <span style=\"background-color:rgba(135,206,250,0.1687495);\">riesling</span> <span style=\"background-color:rgba(135,206,250,0.0464835);\">:</span> <span style=\"background-color:rgba(135,206,250,0.050018102);\">whiffs</span> <span style=\"background-color:rgba(135,206,250,0.012037746);\">of</span> <span style=\"background-color:rgba(135,206,250,0.035914697);\">smoke</span> <span style=\"background-color:rgba(135,206,250,0.01768928);\">and</span> <span style=\"background-color:rgba(135,206,250,0.04674009);\">slate</span> <span style=\"background-color:rgba(135,206,250,0.016676813);\">lend</span> <span style=\"background-color:rgba(135,206,250,0.015684534);\">a</span> <span style=\"background-color:rgba(135,206,250,0.035320006);\">savory</span> <span style=\"background-color:rgba(135,206,250,0.03805524);\">tone</span> <span style=\"background-color:rgba(135,206,250,0.0116121145);\">to</span> <span style=\"background-color:rgba(135,206,250,0.027273113);\">pressed</span> <span style=\"background-color:rgba(135,206,250,0.04401035);\">apple</span> <span style=\"background-color:rgba(135,206,250,0.018769115);\">and</span> <span style=\"background-color:rgba(135,206,250,0.048419707);\">pineapple</span> <span style=\"background-color:rgba(135,206,250,0.009309303);\">in</span> <span style=\"background-color:rgba(135,206,250,0.028211253);\">this</span> <span style=\"background-color:rgba(135,206,250,0.04663989);\">dry</span> <span style=\"background-color:rgba(135,206,250,0.019769097);\">,</span> <span style=\"background-color:rgba(135,206,250,0.020353967);\">off</span> <span style=\"background-color:rgba(135,206,250,0.011358573);\">-</span> <span style=\"background-color:rgba(135,206,250,0.057513505);\">dry</span> <span style=\"background-color:rgba(135,206,250,0.066460066);\">riesling</span> <span style=\"background-color:rgba(135,206,250,0.09652163);\">.</span> <span style=\"background-color:rgba(135,206,250,0.04486605);\">it</span> <span style=\"background-color:rgba(135,206,250,0.017053297);\">'</span> <span style=\"background-color:rgba(135,206,250,0.045593146);\">s</span> <span style=\"background-color:rgba(135,206,250,0.10777361);\">juicy</span> <span style=\"background-color:rgba(135,206,250,0.031230444);\">in</span> <span style=\"background-color:rgba(135,206,250,0.10189918);\">tangerine</span> <span style=\"background-color:rgba(135,206,250,0.12960905);\">and</span> <span style=\"background-color:rgba(135,206,250,0.20149767);\">lime</span> <span style=\"background-color:rgba(135,206,250,0.36783257);\">acidity</span> <span style=\"background-color:rgba(135,206,250,0.38905418);\">,</span> <span style=\"background-color:rgba(135,206,250,1.0);\">finishing</span> <span style=\"background-color:rgba(135,206,250,0.33675474);\">with</span>"
      ],
      "text/plain": [
       "<IPython.core.display.HTML object>"
      ]
     },
     "metadata": {},
     "output_type": "display_data"
    },
    {
     "name": "stdout",
     "output_type": "stream",
     "text": [
      "a:   \t99.7%\n",
      "an:   \t0.13%\n",
      "fresh:   \t0.04%\n",
      "hints:   \t0.03%\n",
      "some:   \t0.02%\n",
      "--------\n",
      "\n"
     ]
    },
    {
     "data": {
      "text/html": [
       "<span style=\"background-color:rgba(135,206,250,0.05528384);\">wine</span> <span style=\"background-color:rgba(135,206,250,0.067918226);\">review</span> <span style=\"background-color:rgba(135,206,250,0.054525983);\">:</span> <span style=\"background-color:rgba(135,206,250,0.2505244);\">germany</span> <span style=\"background-color:rgba(135,206,250,0.05019272);\">:</span> <span style=\"background-color:rgba(135,206,250,0.19197021);\">mosel</span> <span style=\"background-color:rgba(135,206,250,0.04267183);\">:</span> <span style=\"background-color:rgba(135,206,250,0.20753069);\">riesling</span> <span style=\"background-color:rgba(135,206,250,0.06511996);\">:</span> <span style=\"background-color:rgba(135,206,250,0.07080477);\">whiffs</span> <span style=\"background-color:rgba(135,206,250,0.02376949);\">of</span> <span style=\"background-color:rgba(135,206,250,0.056839008);\">smoke</span> <span style=\"background-color:rgba(135,206,250,0.023824979);\">and</span> <span style=\"background-color:rgba(135,206,250,0.06512067);\">slate</span> <span style=\"background-color:rgba(135,206,250,0.028373368);\">lend</span> <span style=\"background-color:rgba(135,206,250,0.014821451);\">a</span> <span style=\"background-color:rgba(135,206,250,0.045353323);\">savory</span> <span style=\"background-color:rgba(135,206,250,0.06388335);\">tone</span> <span style=\"background-color:rgba(135,206,250,0.015981225);\">to</span> <span style=\"background-color:rgba(135,206,250,0.049726795);\">pressed</span> <span style=\"background-color:rgba(135,206,250,0.043367557);\">apple</span> <span style=\"background-color:rgba(135,206,250,0.0231879);\">and</span> <span style=\"background-color:rgba(135,206,250,0.053691678);\">pineapple</span> <span style=\"background-color:rgba(135,206,250,0.015372224);\">in</span> <span style=\"background-color:rgba(135,206,250,0.032121707);\">this</span> <span style=\"background-color:rgba(135,206,250,0.06569737);\">dry</span> <span style=\"background-color:rgba(135,206,250,0.027395032);\">,</span> <span style=\"background-color:rgba(135,206,250,0.040625464);\">off</span> <span style=\"background-color:rgba(135,206,250,0.011688189);\">-</span> <span style=\"background-color:rgba(135,206,250,0.07568555);\">dry</span> <span style=\"background-color:rgba(135,206,250,0.069292866);\">riesling</span> <span style=\"background-color:rgba(135,206,250,0.09299398);\">.</span> <span style=\"background-color:rgba(135,206,250,0.03838024);\">it</span> <span style=\"background-color:rgba(135,206,250,0.022422137);\">'</span> <span style=\"background-color:rgba(135,206,250,0.048280478);\">s</span> <span style=\"background-color:rgba(135,206,250,0.09786851);\">juicy</span> <span style=\"background-color:rgba(135,206,250,0.048363127);\">in</span> <span style=\"background-color:rgba(135,206,250,0.0910853);\">tangerine</span> <span style=\"background-color:rgba(135,206,250,0.09093611);\">and</span> <span style=\"background-color:rgba(135,206,250,0.24504846);\">lime</span> <span style=\"background-color:rgba(135,206,250,0.36112952);\">acidity</span> <span style=\"background-color:rgba(135,206,250,0.33833984);\">,</span> <span style=\"background-color:rgba(135,206,250,0.87622976);\">finishing</span> <span style=\"background-color:rgba(135,206,250,1.0);\">with</span> <span style=\"background-color:rgba(135,206,250,0.22850326);\">a</span>"
      ],
      "text/plain": [
       "<IPython.core.display.HTML object>"
      ]
     },
     "metadata": {},
     "output_type": "display_data"
    },
    {
     "name": "stdout",
     "output_type": "stream",
     "text": [
      "reverberating:   \t12.29%\n",
      "murmur:   \t9.38%\n",
      "steely:   \t8.85%\n",
      "long:   \t6.91%\n",
      "fresh:   \t6.82%\n",
      "--------\n",
      "\n"
     ]
    },
    {
     "data": {
      "text/html": [
       "<span style=\"background-color:rgba(135,206,250,0.035108417);\">wine</span> <span style=\"background-color:rgba(135,206,250,0.040639218);\">review</span> <span style=\"background-color:rgba(135,206,250,0.06231209);\">:</span> <span style=\"background-color:rgba(135,206,250,0.23761013);\">germany</span> <span style=\"background-color:rgba(135,206,250,0.04533114);\">:</span> <span style=\"background-color:rgba(135,206,250,0.09744508);\">mosel</span> <span style=\"background-color:rgba(135,206,250,0.051008698);\">:</span> <span style=\"background-color:rgba(135,206,250,0.19569437);\">riesling</span> <span style=\"background-color:rgba(135,206,250,0.05627095);\">:</span> <span style=\"background-color:rgba(135,206,250,0.049774557);\">whiffs</span> <span style=\"background-color:rgba(135,206,250,0.016932437);\">of</span> <span style=\"background-color:rgba(135,206,250,0.028523864);\">smoke</span> <span style=\"background-color:rgba(135,206,250,0.024538647);\">and</span> <span style=\"background-color:rgba(135,206,250,0.042314015);\">slate</span> <span style=\"background-color:rgba(135,206,250,0.02716012);\">lend</span> <span style=\"background-color:rgba(135,206,250,0.011310876);\">a</span> <span style=\"background-color:rgba(135,206,250,0.015917564);\">savory</span> <span style=\"background-color:rgba(135,206,250,0.047546417);\">tone</span> <span style=\"background-color:rgba(135,206,250,0.012882152);\">to</span> <span style=\"background-color:rgba(135,206,250,0.017697863);\">pressed</span> <span style=\"background-color:rgba(135,206,250,0.03831235);\">apple</span> <span style=\"background-color:rgba(135,206,250,0.026160032);\">and</span> <span style=\"background-color:rgba(135,206,250,0.0489148);\">pineapple</span> <span style=\"background-color:rgba(135,206,250,0.015319508);\">in</span> <span style=\"background-color:rgba(135,206,250,0.024173848);\">this</span> <span style=\"background-color:rgba(135,206,250,0.033021133);\">dry</span> <span style=\"background-color:rgba(135,206,250,0.025944218);\">,</span> <span style=\"background-color:rgba(135,206,250,0.031663503);\">off</span> <span style=\"background-color:rgba(135,206,250,0.008708053);\">-</span> <span style=\"background-color:rgba(135,206,250,0.04181905);\">dry</span> <span style=\"background-color:rgba(135,206,250,0.08280814);\">riesling</span> <span style=\"background-color:rgba(135,206,250,0.11018185);\">.</span> <span style=\"background-color:rgba(135,206,250,0.049190827);\">it</span> <span style=\"background-color:rgba(135,206,250,0.018246038);\">'</span> <span style=\"background-color:rgba(135,206,250,0.072618626);\">s</span> <span style=\"background-color:rgba(135,206,250,0.055352267);\">juicy</span> <span style=\"background-color:rgba(135,206,250,0.055389617);\">in</span> <span style=\"background-color:rgba(135,206,250,0.09651681);\">tangerine</span> <span style=\"background-color:rgba(135,206,250,0.0977922);\">and</span> <span style=\"background-color:rgba(135,206,250,0.17306012);\">lime</span> <span style=\"background-color:rgba(135,206,250,0.51938546);\">acidity</span> <span style=\"background-color:rgba(135,206,250,0.19715698);\">,</span> <span style=\"background-color:rgba(135,206,250,0.88142294);\">finishing</span> <span style=\"background-color:rgba(135,206,250,0.7303818);\">with</span> <span style=\"background-color:rgba(135,206,250,1.0);\">a</span> <span style=\"background-color:rgba(135,206,250,0.25072145);\">brisk</span>"
      ],
      "text/plain": [
       "<IPython.core.display.HTML object>"
      ]
     },
     "metadata": {},
     "output_type": "display_data"
    },
    {
     "name": "stdout",
     "output_type": "stream",
     "text": [
      ",:   \t84.14%\n",
      "lime:   \t5.39%\n",
      "lemon:   \t3.62%\n",
      "edge:   \t1.82%\n",
      "lift:   \t1.42%\n",
      "--------\n",
      "\n"
     ]
    },
    {
     "data": {
      "text/html": [
       "<span style=\"background-color:rgba(135,206,250,0.035149936);\">wine</span> <span style=\"background-color:rgba(135,206,250,0.059262376);\">review</span> <span style=\"background-color:rgba(135,206,250,0.06902941);\">:</span> <span style=\"background-color:rgba(135,206,250,0.2539174);\">germany</span> <span style=\"background-color:rgba(135,206,250,0.036225982);\">:</span> <span style=\"background-color:rgba(135,206,250,0.0979537);\">mosel</span> <span style=\"background-color:rgba(135,206,250,0.04699686);\">:</span> <span style=\"background-color:rgba(135,206,250,0.1959478);\">riesling</span> <span style=\"background-color:rgba(135,206,250,0.07162193);\">:</span> <span style=\"background-color:rgba(135,206,250,0.058218807);\">whiffs</span> <span style=\"background-color:rgba(135,206,250,0.025300186);\">of</span> <span style=\"background-color:rgba(135,206,250,0.034045126);\">smoke</span> <span style=\"background-color:rgba(135,206,250,0.026792202);\">and</span> <span style=\"background-color:rgba(135,206,250,0.038445175);\">slate</span> <span style=\"background-color:rgba(135,206,250,0.04950903);\">lend</span> <span style=\"background-color:rgba(135,206,250,0.014691471);\">a</span> <span style=\"background-color:rgba(135,206,250,0.023848059);\">savory</span> <span style=\"background-color:rgba(135,206,250,0.04181144);\">tone</span> <span style=\"background-color:rgba(135,206,250,0.02151746);\">to</span> <span style=\"background-color:rgba(135,206,250,0.027444482);\">pressed</span> <span style=\"background-color:rgba(135,206,250,0.042821873);\">apple</span> <span style=\"background-color:rgba(135,206,250,0.02725283);\">and</span> <span style=\"background-color:rgba(135,206,250,0.048524324);\">pineapple</span> <span style=\"background-color:rgba(135,206,250,0.030320952);\">in</span> <span style=\"background-color:rgba(135,206,250,0.06134553);\">this</span> <span style=\"background-color:rgba(135,206,250,0.049915623);\">dry</span> <span style=\"background-color:rgba(135,206,250,0.028604764);\">,</span> <span style=\"background-color:rgba(135,206,250,0.037111916);\">off</span> <span style=\"background-color:rgba(135,206,250,0.016066687);\">-</span> <span style=\"background-color:rgba(135,206,250,0.06667074);\">dry</span> <span style=\"background-color:rgba(135,206,250,0.09260661);\">riesling</span> <span style=\"background-color:rgba(135,206,250,0.16851911);\">.</span> <span style=\"background-color:rgba(135,206,250,0.12734407);\">it</span> <span style=\"background-color:rgba(135,206,250,0.022320146);\">'</span> <span style=\"background-color:rgba(135,206,250,0.1126475);\">s</span> <span style=\"background-color:rgba(135,206,250,0.085732564);\">juicy</span> <span style=\"background-color:rgba(135,206,250,0.072297044);\">in</span> <span style=\"background-color:rgba(135,206,250,0.13566956);\">tangerine</span> <span style=\"background-color:rgba(135,206,250,0.15484339);\">and</span> <span style=\"background-color:rgba(135,206,250,0.25286958);\">lime</span> <span style=\"background-color:rgba(135,206,250,0.31762913);\">acidity</span> <span style=\"background-color:rgba(135,206,250,0.11047664);\">,</span> <span style=\"background-color:rgba(135,206,250,0.58960783);\">finishing</span> <span style=\"background-color:rgba(135,206,250,0.6841857);\">with</span> <span style=\"background-color:rgba(135,206,250,0.6556155);\">a</span> <span style=\"background-color:rgba(135,206,250,1.0);\">brisk</span> <span style=\"background-color:rgba(135,206,250,0.4162373);\">,</span>"
      ],
      "text/plain": [
       "<IPython.core.display.HTML object>"
      ]
     },
     "metadata": {},
     "output_type": "display_data"
    },
    {
     "name": "stdout",
     "output_type": "stream",
     "text": [
      "clean:   \t29.85%\n",
      "refreshing:   \t16.86%\n",
      "steely:   \t11.56%\n",
      "cutting:   \t11.51%\n",
      "lemony:   \t11.31%\n",
      "--------\n",
      "\n"
     ]
    },
    {
     "data": {
      "text/html": [
       "<span style=\"background-color:rgba(135,206,250,0.06045516);\">wine</span> <span style=\"background-color:rgba(135,206,250,0.07807519);\">review</span> <span style=\"background-color:rgba(135,206,250,0.09225587);\">:</span> <span style=\"background-color:rgba(135,206,250,0.2890008);\">germany</span> <span style=\"background-color:rgba(135,206,250,0.08721806);\">:</span> <span style=\"background-color:rgba(135,206,250,0.15953016);\">mosel</span> <span style=\"background-color:rgba(135,206,250,0.089534424);\">:</span> <span style=\"background-color:rgba(135,206,250,0.3050604);\">riesling</span> <span style=\"background-color:rgba(135,206,250,0.091019996);\">:</span> <span style=\"background-color:rgba(135,206,250,0.06980219);\">whiffs</span> <span style=\"background-color:rgba(135,206,250,0.0341611);\">of</span> <span style=\"background-color:rgba(135,206,250,0.048602127);\">smoke</span> <span style=\"background-color:rgba(135,206,250,0.046765365);\">and</span> <span style=\"background-color:rgba(135,206,250,0.08273658);\">slate</span> <span style=\"background-color:rgba(135,206,250,0.035056654);\">lend</span> <span style=\"background-color:rgba(135,206,250,0.026585624);\">a</span> <span style=\"background-color:rgba(135,206,250,0.034402415);\">savory</span> <span style=\"background-color:rgba(135,206,250,0.06338706);\">tone</span> <span style=\"background-color:rgba(135,206,250,0.026969742);\">to</span> <span style=\"background-color:rgba(135,206,250,0.037323322);\">pressed</span> <span style=\"background-color:rgba(135,206,250,0.0732209);\">apple</span> <span style=\"background-color:rgba(135,206,250,0.047970872);\">and</span> <span style=\"background-color:rgba(135,206,250,0.09581556);\">pineapple</span> <span style=\"background-color:rgba(135,206,250,0.023993272);\">in</span> <span style=\"background-color:rgba(135,206,250,0.036839448);\">this</span> <span style=\"background-color:rgba(135,206,250,0.05647395);\">dry</span> <span style=\"background-color:rgba(135,206,250,0.04715802);\">,</span> <span style=\"background-color:rgba(135,206,250,0.055552516);\">off</span> <span style=\"background-color:rgba(135,206,250,0.020551505);\">-</span> <span style=\"background-color:rgba(135,206,250,0.06616341);\">dry</span> <span style=\"background-color:rgba(135,206,250,0.13063951);\">riesling</span> <span style=\"background-color:rgba(135,206,250,0.13910432);\">.</span> <span style=\"background-color:rgba(135,206,250,0.062668286);\">it</span> <span style=\"background-color:rgba(135,206,250,0.03663206);\">'</span> <span style=\"background-color:rgba(135,206,250,0.11052492);\">s</span> <span style=\"background-color:rgba(135,206,250,0.07090294);\">juicy</span> <span style=\"background-color:rgba(135,206,250,0.05623833);\">in</span> <span style=\"background-color:rgba(135,206,250,0.13092613);\">tangerine</span> <span style=\"background-color:rgba(135,206,250,0.11926016);\">and</span> <span style=\"background-color:rgba(135,206,250,0.21188872);\">lime</span> <span style=\"background-color:rgba(135,206,250,0.46425977);\">acidity</span> <span style=\"background-color:rgba(135,206,250,0.1854543);\">,</span> <span style=\"background-color:rgba(135,206,250,1.0);\">finishing</span> <span style=\"background-color:rgba(135,206,250,0.6833187);\">with</span> <span style=\"background-color:rgba(135,206,250,0.98288673);\">a</span> <span style=\"background-color:rgba(135,206,250,0.53343666);\">brisk</span> <span style=\"background-color:rgba(135,206,250,0.9898041);\">,</span> <span style=\"background-color:rgba(135,206,250,0.45130858);\">fresh</span>"
      ],
      "text/plain": [
       "<IPython.core.display.HTML object>"
      ]
     },
     "metadata": {},
     "output_type": "display_data"
    },
    {
     "name": "stdout",
     "output_type": "stream",
     "text": [
      ",:   \t28.98%\n",
      "feel:   \t12.77%\n",
      "lime:   \t9.32%\n",
      "aftertaste:   \t9.14%\n",
      "acidity:   \t6.29%\n",
      "--------\n",
      "\n"
     ]
    },
    {
     "data": {
      "text/html": [
       "<span style=\"background-color:rgba(135,206,250,0.05549586);\">wine</span> <span style=\"background-color:rgba(135,206,250,0.08651814);\">review</span> <span style=\"background-color:rgba(135,206,250,0.119695775);\">:</span> <span style=\"background-color:rgba(135,206,250,0.31218335);\">germany</span> <span style=\"background-color:rgba(135,206,250,0.08831559);\">:</span> <span style=\"background-color:rgba(135,206,250,0.11083505);\">mosel</span> <span style=\"background-color:rgba(135,206,250,0.08041448);\">:</span> <span style=\"background-color:rgba(135,206,250,0.12746346);\">riesling</span> <span style=\"background-color:rgba(135,206,250,0.1018499);\">:</span> <span style=\"background-color:rgba(135,206,250,0.06141371);\">whiffs</span> <span style=\"background-color:rgba(135,206,250,0.029571533);\">of</span> <span style=\"background-color:rgba(135,206,250,0.034581155);\">smoke</span> <span style=\"background-color:rgba(135,206,250,0.040731363);\">and</span> <span style=\"background-color:rgba(135,206,250,0.05360539);\">slate</span> <span style=\"background-color:rgba(135,206,250,0.05662659);\">lend</span> <span style=\"background-color:rgba(135,206,250,0.031385582);\">a</span> <span style=\"background-color:rgba(135,206,250,0.02997895);\">savory</span> <span style=\"background-color:rgba(135,206,250,0.04263202);\">tone</span> <span style=\"background-color:rgba(135,206,250,0.02761216);\">to</span> <span style=\"background-color:rgba(135,206,250,0.03819093);\">pressed</span> <span style=\"background-color:rgba(135,206,250,0.04496426);\">apple</span> <span style=\"background-color:rgba(135,206,250,0.039561313);\">and</span> <span style=\"background-color:rgba(135,206,250,0.047796126);\">pineapple</span> <span style=\"background-color:rgba(135,206,250,0.047626063);\">in</span> <span style=\"background-color:rgba(135,206,250,0.047262512);\">this</span> <span style=\"background-color:rgba(135,206,250,0.06023113);\">dry</span> <span style=\"background-color:rgba(135,206,250,0.047633607);\">,</span> <span style=\"background-color:rgba(135,206,250,0.04153598);\">off</span> <span style=\"background-color:rgba(135,206,250,0.028596649);\">-</span> <span style=\"background-color:rgba(135,206,250,0.08134766);\">dry</span> <span style=\"background-color:rgba(135,206,250,0.10627101);\">riesling</span> <span style=\"background-color:rgba(135,206,250,0.23058121);\">.</span> <span style=\"background-color:rgba(135,206,250,0.1189485);\">it</span> <span style=\"background-color:rgba(135,206,250,0.054017913);\">'</span> <span style=\"background-color:rgba(135,206,250,0.13078439);\">s</span> <span style=\"background-color:rgba(135,206,250,0.14380717);\">juicy</span> <span style=\"background-color:rgba(135,206,250,0.14386867);\">in</span> <span style=\"background-color:rgba(135,206,250,0.15171272);\">tangerine</span> <span style=\"background-color:rgba(135,206,250,0.15922898);\">and</span> <span style=\"background-color:rgba(135,206,250,0.1748887);\">lime</span> <span style=\"background-color:rgba(135,206,250,0.25804883);\">acidity</span> <span style=\"background-color:rgba(135,206,250,0.25037208);\">,</span> <span style=\"background-color:rgba(135,206,250,0.43300483);\">finishing</span> <span style=\"background-color:rgba(135,206,250,0.9820505);\">with</span> <span style=\"background-color:rgba(135,206,250,0.908881);\">a</span> <span style=\"background-color:rgba(135,206,250,0.6503904);\">brisk</span> <span style=\"background-color:rgba(135,206,250,0.9552173);\">,</span> <span style=\"background-color:rgba(135,206,250,1.0);\">fresh</span> <span style=\"background-color:rgba(135,206,250,0.73718417);\">finish</span>"
      ],
      "text/plain": [
       "<IPython.core.display.HTML object>"
      ]
     },
     "metadata": {},
     "output_type": "display_data"
    },
    {
     "name": "stdout",
     "output_type": "stream",
     "text": [
      ".:   \t99.99%\n",
      "that:   \t0.0%\n",
      ",:   \t0.0%\n",
      "of:   \t0.0%\n",
      "and:   \t0.0%\n",
      "--------\n",
      "\n"
     ]
    },
    {
     "data": {
      "text/html": [
       "<span style=\"background-color:rgba(135,206,250,0.48475325);\">wine</span> <span style=\"background-color:rgba(135,206,250,0.6169007);\">review</span> <span style=\"background-color:rgba(135,206,250,0.534451);\">:</span> <span style=\"background-color:rgba(135,206,250,0.8978011);\">germany</span> <span style=\"background-color:rgba(135,206,250,0.50467);\">:</span> <span style=\"background-color:rgba(135,206,250,1.0);\">mosel</span> <span style=\"background-color:rgba(135,206,250,0.5725434);\">:</span> <span style=\"background-color:rgba(135,206,250,0.87602156);\">riesling</span> <span style=\"background-color:rgba(135,206,250,0.3381889);\">:</span> <span style=\"background-color:rgba(135,206,250,0.2188505);\">whiffs</span> <span style=\"background-color:rgba(135,206,250,0.12604122);\">of</span> <span style=\"background-color:rgba(135,206,250,0.1735744);\">smoke</span> <span style=\"background-color:rgba(135,206,250,0.18293762);\">and</span> <span style=\"background-color:rgba(135,206,250,0.20297109);\">slate</span> <span style=\"background-color:rgba(135,206,250,0.13282464);\">lend</span> <span style=\"background-color:rgba(135,206,250,0.098450065);\">a</span> <span style=\"background-color:rgba(135,206,250,0.11974796);\">savory</span> <span style=\"background-color:rgba(135,206,250,0.124955535);\">tone</span> <span style=\"background-color:rgba(135,206,250,0.07691134);\">to</span> <span style=\"background-color:rgba(135,206,250,0.09431649);\">pressed</span> <span style=\"background-color:rgba(135,206,250,0.1309366);\">apple</span> <span style=\"background-color:rgba(135,206,250,0.10943638);\">and</span> <span style=\"background-color:rgba(135,206,250,0.12710641);\">pineapple</span> <span style=\"background-color:rgba(135,206,250,0.061338738);\">in</span> <span style=\"background-color:rgba(135,206,250,0.18663985);\">this</span> <span style=\"background-color:rgba(135,206,250,0.12794088);\">dry</span> <span style=\"background-color:rgba(135,206,250,0.10299383);\">,</span> <span style=\"background-color:rgba(135,206,250,0.07542952);\">off</span> <span style=\"background-color:rgba(135,206,250,0.06139176);\">-</span> <span style=\"background-color:rgba(135,206,250,0.14225614);\">dry</span> <span style=\"background-color:rgba(135,206,250,0.19599706);\">riesling</span> <span style=\"background-color:rgba(135,206,250,0.22710851);\">.</span> <span style=\"background-color:rgba(135,206,250,0.12530962);\">it</span> <span style=\"background-color:rgba(135,206,250,0.05473907);\">'</span> <span style=\"background-color:rgba(135,206,250,0.12421336);\">s</span> <span style=\"background-color:rgba(135,206,250,0.14663133);\">juicy</span> <span style=\"background-color:rgba(135,206,250,0.07279257);\">in</span> <span style=\"background-color:rgba(135,206,250,0.19002214);\">tangerine</span> <span style=\"background-color:rgba(135,206,250,0.13090776);\">and</span> <span style=\"background-color:rgba(135,206,250,0.22214016);\">lime</span> <span style=\"background-color:rgba(135,206,250,0.25736368);\">acidity</span> <span style=\"background-color:rgba(135,206,250,0.13359591);\">,</span> <span style=\"background-color:rgba(135,206,250,0.5858476);\">finishing</span> <span style=\"background-color:rgba(135,206,250,0.1575257);\">with</span> <span style=\"background-color:rgba(135,206,250,0.11170789);\">a</span> <span style=\"background-color:rgba(135,206,250,0.24031794);\">brisk</span> <span style=\"background-color:rgba(135,206,250,0.15364839);\">,</span> <span style=\"background-color:rgba(135,206,250,0.15864493);\">fresh</span> <span style=\"background-color:rgba(135,206,250,0.71582794);\">finish</span> <span style=\"background-color:rgba(135,206,250,0.36985403);\">.</span>"
      ],
      "text/plain": [
       "<IPython.core.display.HTML object>"
      ]
     },
     "metadata": {},
     "output_type": "display_data"
    },
    {
     "name": "stdout",
     "output_type": "stream",
     "text": [
      ":   \t70.39%\n",
      "drink:   \t29.32%\n",
      "drinks:   \t0.17%\n",
      "it:   \t0.06%\n",
      "enjoy:   \t0.05%\n",
      "--------\n",
      "\n"
     ]
    }
   ],
   "source": [
    "info = text_generator.generate(\n",
    "    \"wine review : germany\", max_tokens=80, temperature=0.5\n",
    ")\n",
    "print_probs(info, vocab)"
   ]
  },
  {
   "cell_type": "code",
   "execution_count": null,
   "id": "fcc7a7c0-6c64-47d3-acee-96e48f025e01",
   "metadata": {},
   "outputs": [],
   "source": []
  },
  {
   "cell_type": "code",
   "execution_count": null,
   "id": "4122154c-9e41-44ba-8c5f-fe88a55fe977",
   "metadata": {},
   "outputs": [],
   "source": []
  }
 ],
 "metadata": {
  "kernelspec": {
   "display_name": "Python 3 (ipykernel)",
   "language": "python",
   "name": "python3"
  },
  "language_info": {
   "codemirror_mode": {
    "name": "ipython",
    "version": 3
   },
   "file_extension": ".py",
   "mimetype": "text/x-python",
   "name": "python",
   "nbconvert_exporter": "python",
   "pygments_lexer": "ipython3",
   "version": "3.8.10"
  },
  "vscode": {
   "interpreter": {
    "hash": "31f2aee4e71d21fbe5cf8b01ff0e069b9275f58929596ceb00d14d90e3e16cd6"
   }
  }
 },
 "nbformat": 4,
 "nbformat_minor": 5
}
